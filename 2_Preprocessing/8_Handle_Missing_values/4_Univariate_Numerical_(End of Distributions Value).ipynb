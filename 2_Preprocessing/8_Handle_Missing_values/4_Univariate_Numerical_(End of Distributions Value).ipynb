{
 "cells": [
  {
   "cell_type": "markdown",
   "id": "b1b55887",
   "metadata": {},
   "source": [
    "# End of Distribution imputation\n",
    "\n",
    "## In this method we replace missing values with far end values or extreme\n",
    "## Far end value means the values after 3rd stander deviation"
   ]
  },
  {
   "cell_type": "markdown",
   "id": "60e66b92",
   "metadata": {},
   "source": [
    "* # Only used when the missing values are not Random\n",
    "\n",
    "* # Only used this Technique when the data are Normal Distribution and Skew Distribution\n",
    "\n",
    "## For Normal Distribution used \n",
    "* ## (mean + 3 x STD)\n",
    "* ## (mean - 3 x STD) \n",
    "\n",
    "## For Skew Distribution used (IQR proximity rule)\n",
    "\n",
    "* ## Q1 - 1.5 X IQR\n",
    "* ## Q3 + 1.5 X IQR\n",
    "\n",
    "### Where IQR = Q3-Q1\n",
    "\n",
    "### and Q1 = 25th Percentile\n",
    "### and Q3 = 75th Percentile"
   ]
  },
  {
   "cell_type": "markdown",
   "id": "608fd618",
   "metadata": {},
   "source": [
    "# Example"
   ]
  },
  {
   "cell_type": "code",
   "execution_count": 1,
   "id": "2f1b34c7",
   "metadata": {},
   "outputs": [],
   "source": [
    "import pandas as pd\n",
    "import numpy as np\n",
    "import seaborn as sns\n",
    "import matplotlib.pyplot as plt"
   ]
  },
  {
   "cell_type": "code",
   "execution_count": 2,
   "id": "a5552476",
   "metadata": {},
   "outputs": [
    {
     "data": {
      "text/html": [
       "<div>\n",
       "<style scoped>\n",
       "    .dataframe tbody tr th:only-of-type {\n",
       "        vertical-align: middle;\n",
       "    }\n",
       "\n",
       "    .dataframe tbody tr th {\n",
       "        vertical-align: top;\n",
       "    }\n",
       "\n",
       "    .dataframe thead th {\n",
       "        text-align: right;\n",
       "    }\n",
       "</style>\n",
       "<table border=\"1\" class=\"dataframe\">\n",
       "  <thead>\n",
       "    <tr style=\"text-align: right;\">\n",
       "      <th></th>\n",
       "      <th>Age</th>\n",
       "      <th>Fare</th>\n",
       "      <th>Survived</th>\n",
       "    </tr>\n",
       "  </thead>\n",
       "  <tbody>\n",
       "    <tr>\n",
       "      <th>0</th>\n",
       "      <td>22.0</td>\n",
       "      <td>7.2500</td>\n",
       "      <td>0</td>\n",
       "    </tr>\n",
       "    <tr>\n",
       "      <th>1</th>\n",
       "      <td>38.0</td>\n",
       "      <td>71.2833</td>\n",
       "      <td>1</td>\n",
       "    </tr>\n",
       "    <tr>\n",
       "      <th>2</th>\n",
       "      <td>26.0</td>\n",
       "      <td>7.9250</td>\n",
       "      <td>1</td>\n",
       "    </tr>\n",
       "    <tr>\n",
       "      <th>3</th>\n",
       "      <td>35.0</td>\n",
       "      <td>53.1000</td>\n",
       "      <td>1</td>\n",
       "    </tr>\n",
       "    <tr>\n",
       "      <th>4</th>\n",
       "      <td>35.0</td>\n",
       "      <td>8.0500</td>\n",
       "      <td>0</td>\n",
       "    </tr>\n",
       "  </tbody>\n",
       "</table>\n",
       "</div>"
      ],
      "text/plain": [
       "    Age     Fare  Survived\n",
       "0  22.0   7.2500         0\n",
       "1  38.0  71.2833         1\n",
       "2  26.0   7.9250         1\n",
       "3  35.0  53.1000         1\n",
       "4  35.0   8.0500         0"
      ]
     },
     "execution_count": 2,
     "metadata": {},
     "output_type": "execute_result"
    }
   ],
   "source": [
    "data = pd.read_csv('titanic_toy.csv',usecols=['Age','Fare','Survived'])\n",
    "data.head()\n"
   ]
  },
  {
   "cell_type": "code",
   "execution_count": 3,
   "id": "890626a0",
   "metadata": {},
   "outputs": [
    {
     "data": {
      "text/plain": [
       "Age         177\n",
       "Fare         45\n",
       "Survived      0\n",
       "dtype: int64"
      ]
     },
     "execution_count": 3,
     "metadata": {},
     "output_type": "execute_result"
    }
   ],
   "source": [
    "data.isnull().sum()\n"
   ]
  },
  {
   "cell_type": "markdown",
   "id": "803e33f8",
   "metadata": {},
   "source": [
    "<img src=\"dis.png\">"
   ]
  },
  {
   "cell_type": "markdown",
   "id": "8c138d34",
   "metadata": {},
   "source": [
    "# Check Age Distribution"
   ]
  },
  {
   "cell_type": "code",
   "execution_count": 4,
   "id": "6a0616db",
   "metadata": {},
   "outputs": [
    {
     "data": {
      "text/plain": [
       "<matplotlib.legend.Legend at 0x7f778895ac40>"
      ]
     },
     "execution_count": 4,
     "metadata": {},
     "output_type": "execute_result"
    },
    {
     "data": {
      "image/png": "[encoded data removed]",
      "text/plain": [
       "<Figure size 576x288 with 1 Axes>"
      ]
     },
     "metadata": {
      "needs_background": "light"
     },
     "output_type": "display_data"
    }
   ],
   "source": [
    "plt.figure(figsize=(8,4))\n",
    "data.Age.plot(kind='kde',color='r')\n",
    "plt.legend()"
   ]
  },
  {
   "cell_type": "code",
   "execution_count": 5,
   "id": "c4f7bcaa",
   "metadata": {},
   "outputs": [
    {
     "data": {
      "text/plain": [
       "<AxesSubplot:>"
      ]
     },
     "execution_count": 5,
     "metadata": {},
     "output_type": "execute_result"
    },
    {
     "data": {
      "image/png": "[encoded data removed]",
      "text/plain": [
       "<Figure size 432x288 with 1 Axes>"
      ]
     },
     "metadata": {
      "needs_background": "light"
     },
     "output_type": "display_data"
    }
   ],
   "source": [
    "data.Age.hist(bins=60)"
   ]
  },
  {
   "cell_type": "code",
   "execution_count": 161,
   "id": "aaaafdf9",
   "metadata": {},
   "outputs": [
    {
     "data": {
      "text/plain": [
       "<AxesSubplot:ylabel='Age'>"
      ]
     },
     "execution_count": 161,
     "metadata": {},
     "output_type": "execute_result"
    },
    {
     "data": {
      "image/png": "[encoded data removed]",
      "text/plain": [
       "<Figure size 432x288 with 1 Axes>"
      ]
     },
     "metadata": {
      "needs_background": "light"
     },
     "output_type": "display_data"
    }
   ],
   "source": [
    "sns.boxplot(y=data.Age,color='orange',whis=5,width=100)"
   ]
  },
  {
   "cell_type": "markdown",
   "id": "aa58396b",
   "metadata": {},
   "source": [
    "# Find mean of Age"
   ]
  },
  {
   "cell_type": "code",
   "execution_count": 81,
   "id": "5adc4e28",
   "metadata": {},
   "outputs": [
    {
     "data": {
      "text/plain": [
       "29.69911764705882"
      ]
     },
     "execution_count": 81,
     "metadata": {},
     "output_type": "execute_result"
    }
   ],
   "source": [
    "mean = data['Age'].mean()\n",
    "mean"
   ]
  },
  {
   "cell_type": "markdown",
   "id": "65bfc489",
   "metadata": {},
   "source": [
    "# Find stander deviation of Age "
   ]
  },
  {
   "cell_type": "code",
   "execution_count": 82,
   "id": "507f20fc",
   "metadata": {},
   "outputs": [
    {
     "data": {
      "text/plain": [
       "14.526497332334044"
      ]
     },
     "execution_count": 82,
     "metadata": {},
     "output_type": "execute_result"
    }
   ],
   "source": [
    "std = data['Age'].std()\n",
    "std"
   ]
  },
  {
   "cell_type": "markdown",
   "id": "a10860be",
   "metadata": {},
   "source": [
    "## Now we have a mean and stander deviation of Age feature now we find the Far end values or extreme value\n",
    "\n",
    "## where extreme values means the values after 3rd stander deviation\n",
    "## so extreme = (Mean of Age Feature + ( 3 * stander deviation of Age Feature))"
   ]
  },
  {
   "cell_type": "code",
   "execution_count": 118,
   "id": "0c9e2f89",
   "metadata": {},
   "outputs": [
    {
     "data": {
      "text/plain": [
       "73.27860964406095"
      ]
     },
     "execution_count": 118,
     "metadata": {},
     "output_type": "execute_result"
    }
   ],
   "source": [
    "extreme = mean + (3 * std)\n",
    "extreme"
   ]
  },
  {
   "cell_type": "code",
   "execution_count": 119,
   "id": "cc7972fd",
   "metadata": {},
   "outputs": [],
   "source": [
    "data[\"Age_Dist\"] = data.Age.fillna(extreme)"
   ]
  },
  {
   "cell_type": "code",
   "execution_count": 126,
   "id": "84f9ad38",
   "metadata": {},
   "outputs": [],
   "source": [
    "data[\"Age_Median\"] = data.Age.fillna(mean)"
   ]
  },
  {
   "cell_type": "markdown",
   "id": "b9029cf9",
   "metadata": {},
   "source": [
    "# Plot Graph"
   ]
  },
  {
   "cell_type": "code",
   "execution_count": 127,
   "id": "3369d789",
   "metadata": {},
   "outputs": [
    {
     "data": {
      "text/plain": [
       "<matplotlib.legend.Legend at 0x7f777e79c0a0>"
      ]
     },
     "execution_count": 127,
     "metadata": {},
     "output_type": "execute_result"
    },
    {
     "data": {
      "image/png": "[encoded data removed]",
      "text/plain": [
       "<Figure size 720x432 with 1 Axes>"
      ]
     },
     "metadata": {
      "needs_background": "light"
     },
     "output_type": "display_data"
    }
   ],
   "source": [
    "fig = plt.figure(figsize=(10,6))\n",
    "ax = fig.add_subplot(111)\n",
    "\n",
    "data.Age.plot(kind=\"kde\",ax=ax)\n",
    "data.Age_Dist.plot(kind=\"kde\",ax=ax,color=\"red\")\n",
    "data.Age_Median.plot(kind=\"kde\",ax=ax,color=\"green\")\n",
    "\n",
    "\n",
    "# legend\n",
    "lines , labels = ax.get_legend_handles_labels()\n",
    "ax.legend(lines,labels,loc=\"best\")"
   ]
  },
  {
   "cell_type": "code",
   "execution_count": 128,
   "id": "08dbe113",
   "metadata": {},
   "outputs": [
    {
     "data": {
      "text/plain": [
       "<AxesSubplot:>"
      ]
     },
     "execution_count": 128,
     "metadata": {},
     "output_type": "execute_result"
    },
    {
     "data": {
      "image/png": "[encoded data removed]",
      "text/plain": [
       "<Figure size 432x288 with 1 Axes>"
      ]
     },
     "metadata": {
      "needs_background": "light"
     },
     "output_type": "display_data"
    }
   ],
   "source": [
    "data[[\"Age\",\"Age_Dist\",\"Age_Median\"]].boxplot()"
   ]
  }
 ],
 "metadata": {
  "kernelspec": {
   "display_name": "Python 3 (ipykernel)",
   "language": "python",
   "name": "python3"
  },
  "language_info": {
   "codemirror_mode": {
    "name": "ipython",
    "version": 3
   },
   "file_extension": ".py",
   "mimetype": "text/x-python",
   "name": "python",
   "nbconvert_exporter": "python",
   "pygments_lexer": "ipython3",
   "version": "3.9.2"
  }
 },
 "nbformat": 4,
 "nbformat_minor": 5
}
