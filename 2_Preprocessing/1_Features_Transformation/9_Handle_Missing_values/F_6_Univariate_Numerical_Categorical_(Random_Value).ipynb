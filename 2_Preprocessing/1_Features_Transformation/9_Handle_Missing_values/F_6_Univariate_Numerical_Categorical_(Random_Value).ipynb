{
 "cells": [
  {
   "cell_type": "markdown",
   "id": "64be551f",
   "metadata": {},
   "source": [
    "* ## Work on Both Numerical and Categorical Data\n",
    "* ## Similary Effect on Data Distribution and variance\n",
    "* ## Good Work on Linear Algorithms\n"
   ]
  },
  {
   "cell_type": "markdown",
   "id": "bc06676d",
   "metadata": {},
   "source": [
    "* ## Distrubed Co-Variance (relationship)\n",
    "* ## Can't Work on Decision Tree base Algorithms\n",
    "* ## Consume Storage"
   ]
  },
  {
   "cell_type": "code",
   "execution_count": 1,
   "id": "dea75732",
   "metadata": {},
   "outputs": [],
   "source": [
    "import pandas as pd\n",
    "import numpy as np\n",
    "\n",
    "from sklearn.model_selection import train_test_split\n",
    "\n",
    "import matplotlib.pyplot as plt\n",
    "import seaborn as sns"
   ]
  },
  {
   "cell_type": "code",
   "execution_count": 2,
   "id": "0f43a2a5",
   "metadata": {},
   "outputs": [
    {
     "data": {
      "text/html": [
       "<div>\n",
       "<style scoped>\n",
       "    .dataframe tbody tr th:only-of-type {\n",
       "        vertical-align: middle;\n",
       "    }\n",
       "\n",
       "    .dataframe tbody tr th {\n",
       "        vertical-align: top;\n",
       "    }\n",
       "\n",
       "    .dataframe thead th {\n",
       "        text-align: right;\n",
       "    }\n",
       "</style>\n",
       "<table border=\"1\" class=\"dataframe\">\n",
       "  <thead>\n",
       "    <tr style=\"text-align: right;\">\n",
       "      <th></th>\n",
       "      <th>Age</th>\n",
       "      <th>Fare</th>\n",
       "      <th>Survived</th>\n",
       "    </tr>\n",
       "  </thead>\n",
       "  <tbody>\n",
       "    <tr>\n",
       "      <th>0</th>\n",
       "      <td>22.0</td>\n",
       "      <td>7.2500</td>\n",
       "      <td>0</td>\n",
       "    </tr>\n",
       "    <tr>\n",
       "      <th>1</th>\n",
       "      <td>38.0</td>\n",
       "      <td>71.2833</td>\n",
       "      <td>1</td>\n",
       "    </tr>\n",
       "    <tr>\n",
       "      <th>2</th>\n",
       "      <td>26.0</td>\n",
       "      <td>7.9250</td>\n",
       "      <td>1</td>\n",
       "    </tr>\n",
       "    <tr>\n",
       "      <th>3</th>\n",
       "      <td>35.0</td>\n",
       "      <td>53.1000</td>\n",
       "      <td>1</td>\n",
       "    </tr>\n",
       "    <tr>\n",
       "      <th>4</th>\n",
       "      <td>35.0</td>\n",
       "      <td>8.0500</td>\n",
       "      <td>0</td>\n",
       "    </tr>\n",
       "  </tbody>\n",
       "</table>\n",
       "</div>"
      ],
      "text/plain": [
       "    Age     Fare  Survived\n",
       "0  22.0   7.2500         0\n",
       "1  38.0  71.2833         1\n",
       "2  26.0   7.9250         1\n",
       "3  35.0  53.1000         1\n",
       "4  35.0   8.0500         0"
      ]
     },
     "execution_count": 2,
     "metadata": {},
     "output_type": "execute_result"
    }
   ],
   "source": [
    "df = pd.read_csv(\"./titanic_toy.csv\",usecols=[\"Survived\",\"Age\",\"Fare\"])\n",
    "df.head()"
   ]
  },
  {
   "cell_type": "code",
   "execution_count": 3,
   "id": "6ebbe2c2",
   "metadata": {},
   "outputs": [
    {
     "data": {
      "text/plain": [
       "Age         19.865320\n",
       "Fare         5.050505\n",
       "Survived     0.000000\n",
       "dtype: float64"
      ]
     },
     "execution_count": 3,
     "metadata": {},
     "output_type": "execute_result"
    }
   ],
   "source": [
    "df.isnull().mean() * 100"
   ]
  },
  {
   "cell_type": "code",
   "execution_count": 4,
   "id": "31be61e1",
   "metadata": {},
   "outputs": [],
   "source": [
    "x = df.drop(columns=[\"Survived\"])\n",
    "y = df.Survived"
   ]
  },
  {
   "cell_type": "code",
   "execution_count": 5,
   "id": "045bacb7",
   "metadata": {},
   "outputs": [],
   "source": [
    "xtrain,xtest ,ytrain,ytest = train_test_split(x,y,test_size=0.2,random_state=2)"
   ]
  },
  {
   "cell_type": "code",
   "execution_count": 6,
   "id": "9bdbe01b",
   "metadata": {},
   "outputs": [],
   "source": [
    "xtrain[\"Age_Impute\"] = xtrain.Age"
   ]
  },
  {
   "cell_type": "code",
   "execution_count": 7,
   "id": "a8ea1a11",
   "metadata": {},
   "outputs": [],
   "source": [
    "xtest[\"Age_Impute\"] = xtest.Age"
   ]
  },
  {
   "cell_type": "markdown",
   "id": "7c987a55",
   "metadata": {},
   "source": [
    "# Apply Random Value"
   ]
  },
  {
   "cell_type": "markdown",
   "id": "50908d96",
   "metadata": {},
   "source": [
    "* ##  remove null value"
   ]
  },
  {
   "cell_type": "markdown",
   "id": "147c6173",
   "metadata": {},
   "source": [
    "# Age"
   ]
  },
  {
   "cell_type": "code",
   "execution_count": 8,
   "id": "4c235a14",
   "metadata": {},
   "outputs": [
    {
     "data": {
      "text/plain": [
       "30     40.0\n",
       "10      4.0\n",
       "873    47.0\n",
       "182     9.0\n",
       "876    20.0\n",
       "       ... \n",
       "360    40.0\n",
       "75     25.0\n",
       "299    50.0\n",
       "534    30.0\n",
       "493    71.0\n",
       "Name: Age, Length: 564, dtype: float64"
      ]
     },
     "execution_count": 8,
     "metadata": {},
     "output_type": "execute_result"
    }
   ],
   "source": [
    "clean_values = xtrain.Age.dropna()\n",
    "clean_values"
   ]
  },
  {
   "cell_type": "markdown",
   "id": "dee96689",
   "metadata": {},
   "source": [
    "* ## Total Length of missing value"
   ]
  },
  {
   "cell_type": "code",
   "execution_count": 9,
   "id": "36f77500",
   "metadata": {},
   "outputs": [
    {
     "data": {
      "text/plain": [
       "148"
      ]
     },
     "execution_count": 9,
     "metadata": {},
     "output_type": "execute_result"
    }
   ],
   "source": [
    "length_nulls = xtrain.Age.isnull().sum()\n",
    "length_nulls"
   ]
  },
  {
   "cell_type": "markdown",
   "id": "ea296407",
   "metadata": {},
   "source": [
    "* ## Random Samples values"
   ]
  },
  {
   "cell_type": "markdown",
   "id": "53d7bfe3",
   "metadata": {},
   "source": [
    "### Note .sample(length,random_state=length).values\n",
    "### random_state are changes the values if the code are again run"
   ]
  },
  {
   "cell_type": "code",
   "execution_count": 10,
   "id": "15649f44",
   "metadata": {},
   "outputs": [],
   "source": [
    "rnd_val = clean_values.sample(length_nulls,random_state=length_nulls).values"
   ]
  },
  {
   "cell_type": "code",
   "execution_count": 11,
   "id": "c3c3936a",
   "metadata": {},
   "outputs": [
    {
     "data": {
      "text/plain": [
       "array([10. , 30. , 40. ,  4. , 27. , 54. , 50. , 15. , 35. , 25. ,  4. ,\n",
       "        1. , 36. , 62. ,  3. , 24. , 24. , 24. , 36. , 58. , 26. , 14. ,\n",
       "       30. , 20. , 43. , 42. , 19. ,  4. ,  9. , 22. , 36. , 36. ,  3. ,\n",
       "       25. , 18. , 18. , 20. ,  1. , 29. , 58. , 16. , 25. , 45. , 21. ,\n",
       "       30. , 22. , 30. , 16. , 14. , 35. , 36. , 40. , 34. , 29. , 41. ,\n",
       "        9. , 52. , 36.5, 54. , 37. , 31. , 51. , 19. , 24. , 37. , 33. ,\n",
       "       28. , 31. ,  9. , 33. , 60. , 28. , 21. , 40.5, 24. , 38. , 45.5,\n",
       "       30. ,  2. , 32.5, 35. , 58. , 50. , 31. , 27. , 16. , 26. , 24. ,\n",
       "       13. , 34. , 39. , 24. , 35. , 25. , 21. , 36. , 41. , 42. ,  4. ,\n",
       "       18. , 46. , 32. , 23. , 21. , 47. , 23. , 32. , 22. , 42. , 28. ,\n",
       "       30. , 19. , 19. , 14. , 23. , 17. ,  8. , 48. , 24. , 53. , 28. ,\n",
       "       22. , 44. , 26. , 64. , 32. , 27. , 36. , 32. , 18. , 27. , 29. ,\n",
       "       16. , 43. , 28. , 25. , 36. , 63. , 11. , 21. , 39. , 18. , 24. ,\n",
       "       17. , 18. , 34. , 24. ,  9. ])"
      ]
     },
     "execution_count": 11,
     "metadata": {},
     "output_type": "execute_result"
    }
   ],
   "source": [
    "rnd_val"
   ]
  },
  {
   "cell_type": "markdown",
   "id": "546cfe7e",
   "metadata": {},
   "source": [
    "* ## Add Random Samples on Age_Impute Missing values"
   ]
  },
  {
   "cell_type": "code",
   "execution_count": 12,
   "id": "b8ea90d1",
   "metadata": {},
   "outputs": [],
   "source": [
    "xtrain[\"Age_Impute\"][xtrain[\"Age_Impute\"].isnull()] = rnd_val"
   ]
  },
  {
   "cell_type": "code",
   "execution_count": 13,
   "id": "23e7329d",
   "metadata": {},
   "outputs": [
    {
     "data": {
      "text/html": [
       "<div>\n",
       "<style scoped>\n",
       "    .dataframe tbody tr th:only-of-type {\n",
       "        vertical-align: middle;\n",
       "    }\n",
       "\n",
       "    .dataframe tbody tr th {\n",
       "        vertical-align: top;\n",
       "    }\n",
       "\n",
       "    .dataframe thead th {\n",
       "        text-align: right;\n",
       "    }\n",
       "</style>\n",
       "<table border=\"1\" class=\"dataframe\">\n",
       "  <thead>\n",
       "    <tr style=\"text-align: right;\">\n",
       "      <th></th>\n",
       "      <th>Age</th>\n",
       "      <th>Fare</th>\n",
       "      <th>Age_Impute</th>\n",
       "    </tr>\n",
       "  </thead>\n",
       "  <tbody>\n",
       "    <tr>\n",
       "      <th>30</th>\n",
       "      <td>40.0</td>\n",
       "      <td>27.7208</td>\n",
       "      <td>40.0</td>\n",
       "    </tr>\n",
       "    <tr>\n",
       "      <th>10</th>\n",
       "      <td>4.0</td>\n",
       "      <td>16.7000</td>\n",
       "      <td>4.0</td>\n",
       "    </tr>\n",
       "    <tr>\n",
       "      <th>873</th>\n",
       "      <td>47.0</td>\n",
       "      <td>9.0000</td>\n",
       "      <td>47.0</td>\n",
       "    </tr>\n",
       "    <tr>\n",
       "      <th>182</th>\n",
       "      <td>9.0</td>\n",
       "      <td>31.3875</td>\n",
       "      <td>9.0</td>\n",
       "    </tr>\n",
       "    <tr>\n",
       "      <th>876</th>\n",
       "      <td>20.0</td>\n",
       "      <td>9.8458</td>\n",
       "      <td>20.0</td>\n",
       "    </tr>\n",
       "  </tbody>\n",
       "</table>\n",
       "</div>"
      ],
      "text/plain": [
       "      Age     Fare  Age_Impute\n",
       "30   40.0  27.7208        40.0\n",
       "10    4.0  16.7000         4.0\n",
       "873  47.0   9.0000        47.0\n",
       "182   9.0  31.3875         9.0\n",
       "876  20.0   9.8458        20.0"
      ]
     },
     "execution_count": 13,
     "metadata": {},
     "output_type": "execute_result"
    }
   ],
   "source": [
    "xtrain.head()"
   ]
  },
  {
   "cell_type": "markdown",
   "id": "e589595a",
   "metadata": {},
   "source": [
    "# Compare Age and Age_Impute"
   ]
  },
  {
   "cell_type": "code",
   "execution_count": 14,
   "id": "186aec1b",
   "metadata": {},
   "outputs": [
    {
     "data": {
      "image/png": "[encoded data removed]",
      "text/plain": [
       "<Figure size 432x288 with 1 Axes>"
      ]
     },
     "metadata": {
      "needs_background": "light"
     },
     "output_type": "display_data"
    }
   ],
   "source": [
    "sns.kdeplot(xtrain[\"Age\"],label=\"Age\")\n",
    "sns.kdeplot(xtrain[\"Age_Impute\"],label=\"Age Imputer\")\n",
    "\n",
    "\n",
    "plt.legend()\n",
    "plt.show()"
   ]
  },
  {
   "cell_type": "markdown",
   "id": "9e5dff36",
   "metadata": {},
   "source": [
    "# Check variance"
   ]
  },
  {
   "cell_type": "code",
   "execution_count": 15,
   "id": "5aa12d39",
   "metadata": {},
   "outputs": [
    {
     "data": {
      "text/plain": [
       "204.3495133904614"
      ]
     },
     "execution_count": 15,
     "metadata": {},
     "output_type": "execute_result"
    }
   ],
   "source": [
    "xtrain.Age.var()"
   ]
  },
  {
   "cell_type": "code",
   "execution_count": 16,
   "id": "3666a330",
   "metadata": {},
   "outputs": [
    {
     "data": {
      "text/plain": [
       "201.91025190959846"
      ]
     },
     "execution_count": 16,
     "metadata": {},
     "output_type": "execute_result"
    }
   ],
   "source": [
    "xtrain.Age_Impute.var()"
   ]
  },
  {
   "cell_type": "markdown",
   "id": "d4467758",
   "metadata": {},
   "source": [
    "# Check Co-Variance"
   ]
  },
  {
   "cell_type": "code",
   "execution_count": 17,
   "id": "ceff494c",
   "metadata": {},
   "outputs": [
    {
     "data": {
      "text/html": [
       "<div>\n",
       "<style scoped>\n",
       "    .dataframe tbody tr th:only-of-type {\n",
       "        vertical-align: middle;\n",
       "    }\n",
       "\n",
       "    .dataframe tbody tr th {\n",
       "        vertical-align: top;\n",
       "    }\n",
       "\n",
       "    .dataframe thead th {\n",
       "        text-align: right;\n",
       "    }\n",
       "</style>\n",
       "<table border=\"1\" class=\"dataframe\">\n",
       "  <thead>\n",
       "    <tr style=\"text-align: right;\">\n",
       "      <th></th>\n",
       "      <th>Fare</th>\n",
       "      <th>Age</th>\n",
       "      <th>Age_Impute</th>\n",
       "    </tr>\n",
       "  </thead>\n",
       "  <tbody>\n",
       "    <tr>\n",
       "      <th>Fare</th>\n",
       "      <td>2448.197914</td>\n",
       "      <td>70.719262</td>\n",
       "      <td>67.317322</td>\n",
       "    </tr>\n",
       "    <tr>\n",
       "      <th>Age</th>\n",
       "      <td>70.719262</td>\n",
       "      <td>204.349513</td>\n",
       "      <td>204.349513</td>\n",
       "    </tr>\n",
       "    <tr>\n",
       "      <th>Age_Impute</th>\n",
       "      <td>67.317322</td>\n",
       "      <td>204.349513</td>\n",
       "      <td>201.910252</td>\n",
       "    </tr>\n",
       "  </tbody>\n",
       "</table>\n",
       "</div>"
      ],
      "text/plain": [
       "                   Fare         Age  Age_Impute\n",
       "Fare        2448.197914   70.719262   67.317322\n",
       "Age           70.719262  204.349513  204.349513\n",
       "Age_Impute    67.317322  204.349513  201.910252"
      ]
     },
     "execution_count": 17,
     "metadata": {},
     "output_type": "execute_result"
    }
   ],
   "source": [
    "xtrain[[\"Fare\",\"Age\",\"Age_Impute\"]].cov()"
   ]
  },
  {
   "cell_type": "markdown",
   "id": "60fea44c",
   "metadata": {},
   "source": [
    "# Check Outliers"
   ]
  },
  {
   "cell_type": "code",
   "execution_count": 18,
   "id": "121a341c",
   "metadata": {},
   "outputs": [
    {
     "data": {
      "text/plain": [
       "<AxesSubplot:>"
      ]
     },
     "execution_count": 18,
     "metadata": {},
     "output_type": "execute_result"
    },
    {
     "data": {
      "image/png": "[encoded data removed]",
      "text/plain": [
       "<Figure size 432x288 with 1 Axes>"
      ]
     },
     "metadata": {
      "needs_background": "light"
     },
     "output_type": "display_data"
    }
   ],
   "source": [
    "xtrain[[\"Age\",\"Age_Impute\"]].boxplot()"
   ]
  },
  {
   "cell_type": "markdown",
   "id": "f28f0f72",
   "metadata": {},
   "source": [
    "# Categorical Data"
   ]
  },
  {
   "cell_type": "code",
   "execution_count": 19,
   "id": "2b69f713",
   "metadata": {},
   "outputs": [
    {
     "data": {
      "text/html": [
       "<div>\n",
       "<style scoped>\n",
       "    .dataframe tbody tr th:only-of-type {\n",
       "        vertical-align: middle;\n",
       "    }\n",
       "\n",
       "    .dataframe tbody tr th {\n",
       "        vertical-align: top;\n",
       "    }\n",
       "\n",
       "    .dataframe thead th {\n",
       "        text-align: right;\n",
       "    }\n",
       "</style>\n",
       "<table border=\"1\" class=\"dataframe\">\n",
       "  <thead>\n",
       "    <tr style=\"text-align: right;\">\n",
       "      <th></th>\n",
       "      <th>FireplaceQu</th>\n",
       "      <th>GarageQual</th>\n",
       "      <th>SalePrice</th>\n",
       "    </tr>\n",
       "  </thead>\n",
       "  <tbody>\n",
       "    <tr>\n",
       "      <th>0</th>\n",
       "      <td>NaN</td>\n",
       "      <td>TA</td>\n",
       "      <td>208500</td>\n",
       "    </tr>\n",
       "    <tr>\n",
       "      <th>1</th>\n",
       "      <td>TA</td>\n",
       "      <td>TA</td>\n",
       "      <td>181500</td>\n",
       "    </tr>\n",
       "    <tr>\n",
       "      <th>2</th>\n",
       "      <td>TA</td>\n",
       "      <td>TA</td>\n",
       "      <td>223500</td>\n",
       "    </tr>\n",
       "    <tr>\n",
       "      <th>3</th>\n",
       "      <td>Gd</td>\n",
       "      <td>TA</td>\n",
       "      <td>140000</td>\n",
       "    </tr>\n",
       "    <tr>\n",
       "      <th>4</th>\n",
       "      <td>TA</td>\n",
       "      <td>TA</td>\n",
       "      <td>250000</td>\n",
       "    </tr>\n",
       "  </tbody>\n",
       "</table>\n",
       "</div>"
      ],
      "text/plain": [
       "  FireplaceQu GarageQual  SalePrice\n",
       "0         NaN         TA     208500\n",
       "1          TA         TA     181500\n",
       "2          TA         TA     223500\n",
       "3          Gd         TA     140000\n",
       "4          TA         TA     250000"
      ]
     },
     "execution_count": 19,
     "metadata": {},
     "output_type": "execute_result"
    }
   ],
   "source": [
    "df = pd.read_csv(\"./house.csv\",usecols=[\"GarageQual\",\"FireplaceQu\",\"SalePrice\"])\n",
    "df.head()"
   ]
  },
  {
   "cell_type": "code",
   "execution_count": 20,
   "id": "782528f2",
   "metadata": {},
   "outputs": [
    {
     "data": {
      "text/plain": [
       "FireplaceQu    47.260274\n",
       "GarageQual      5.547945\n",
       "SalePrice       0.000000\n",
       "dtype: float64"
      ]
     },
     "execution_count": 20,
     "metadata": {},
     "output_type": "execute_result"
    }
   ],
   "source": [
    "df.isnull().mean() * 100"
   ]
  },
  {
   "cell_type": "code",
   "execution_count": 21,
   "id": "90c7fb7f",
   "metadata": {},
   "outputs": [],
   "source": [
    "x = df\n",
    "y = df.SalePrice"
   ]
  },
  {
   "cell_type": "code",
   "execution_count": 22,
   "id": "0253ccb4",
   "metadata": {},
   "outputs": [],
   "source": [
    "xtrain,xtest ,ytrain,ytest = train_test_split(x,y,test_size=0.2,random_state=2)"
   ]
  },
  {
   "cell_type": "code",
   "execution_count": 23,
   "id": "3f5b7e93",
   "metadata": {},
   "outputs": [],
   "source": [
    "xtrain[\"GarageQual_Impute\"] = xtrain.GarageQual\n",
    "xtest[\"GarageQual_Impute\"] = xtest.GarageQual\n",
    "\n",
    "xtrain[\"FireplaceQu_Impute\"] = xtrain.FireplaceQu\n",
    "xtest[\"FireplaceQu_Impute\"] = xtest.FireplaceQu\n"
   ]
  },
  {
   "cell_type": "code",
   "execution_count": 24,
   "id": "441fb623",
   "metadata": {},
   "outputs": [
    {
     "data": {
      "text/html": [
       "<div>\n",
       "<style scoped>\n",
       "    .dataframe tbody tr th:only-of-type {\n",
       "        vertical-align: middle;\n",
       "    }\n",
       "\n",
       "    .dataframe tbody tr th {\n",
       "        vertical-align: top;\n",
       "    }\n",
       "\n",
       "    .dataframe thead th {\n",
       "        text-align: right;\n",
       "    }\n",
       "</style>\n",
       "<table border=\"1\" class=\"dataframe\">\n",
       "  <thead>\n",
       "    <tr style=\"text-align: right;\">\n",
       "      <th></th>\n",
       "      <th>FireplaceQu</th>\n",
       "      <th>GarageQual</th>\n",
       "      <th>SalePrice</th>\n",
       "      <th>GarageQual_Impute</th>\n",
       "      <th>FireplaceQu_Impute</th>\n",
       "    </tr>\n",
       "  </thead>\n",
       "  <tbody>\n",
       "    <tr>\n",
       "      <th>1016</th>\n",
       "      <td>TA</td>\n",
       "      <td>TA</td>\n",
       "      <td>203000</td>\n",
       "      <td>TA</td>\n",
       "      <td>TA</td>\n",
       "    </tr>\n",
       "    <tr>\n",
       "      <th>785</th>\n",
       "      <td>Gd</td>\n",
       "      <td>TA</td>\n",
       "      <td>161500</td>\n",
       "      <td>TA</td>\n",
       "      <td>Gd</td>\n",
       "    </tr>\n",
       "    <tr>\n",
       "      <th>426</th>\n",
       "      <td>TA</td>\n",
       "      <td>TA</td>\n",
       "      <td>275000</td>\n",
       "      <td>TA</td>\n",
       "      <td>TA</td>\n",
       "    </tr>\n",
       "    <tr>\n",
       "      <th>1031</th>\n",
       "      <td>TA</td>\n",
       "      <td>TA</td>\n",
       "      <td>197000</td>\n",
       "      <td>TA</td>\n",
       "      <td>TA</td>\n",
       "    </tr>\n",
       "    <tr>\n",
       "      <th>1024</th>\n",
       "      <td>Gd</td>\n",
       "      <td>TA</td>\n",
       "      <td>287000</td>\n",
       "      <td>TA</td>\n",
       "      <td>Gd</td>\n",
       "    </tr>\n",
       "  </tbody>\n",
       "</table>\n",
       "</div>"
      ],
      "text/plain": [
       "     FireplaceQu GarageQual  SalePrice GarageQual_Impute FireplaceQu_Impute\n",
       "1016          TA         TA     203000                TA                 TA\n",
       "785           Gd         TA     161500                TA                 Gd\n",
       "426           TA         TA     275000                TA                 TA\n",
       "1031          TA         TA     197000                TA                 TA\n",
       "1024          Gd         TA     287000                TA                 Gd"
      ]
     },
     "execution_count": 24,
     "metadata": {},
     "output_type": "execute_result"
    }
   ],
   "source": [
    "xtrain.sample(5)"
   ]
  },
  {
   "cell_type": "markdown",
   "id": "218da73a",
   "metadata": {},
   "source": [
    "# Apply Random Technique"
   ]
  },
  {
   "cell_type": "code",
   "execution_count": 25,
   "id": "db1d3b18",
   "metadata": {},
   "outputs": [
    {
     "name": "stderr",
     "output_type": "stream",
     "text": [
      "/tmp/ipykernel_9973/3171202674.py:3: SettingWithCopyWarning: \n",
      "A value is trying to be set on a copy of a slice from a DataFrame\n",
      "\n",
      "See the caveats in the documentation: https://pandas.pydata.org/pandas-docs/stable/user_guide/indexing.html#returning-a-view-versus-a-copy\n",
      "  xtrain[\"GarageQual_Impute\"][xtrain[\"GarageQual_Impute\"].isnull()] = xtrain.GarageQual.dropna().sample(length,random_state=length).values\n",
      "/tmp/ipykernel_9973/3171202674.py:9: SettingWithCopyWarning: \n",
      "A value is trying to be set on a copy of a slice from a DataFrame\n",
      "\n",
      "See the caveats in the documentation: https://pandas.pydata.org/pandas-docs/stable/user_guide/indexing.html#returning-a-view-versus-a-copy\n",
      "  xtest[\"GarageQual_Impute\"][xtest[\"GarageQual_Impute\"].isnull()] = xtest.GarageQual.dropna().sample(length,random_state=length).values\n",
      "/tmp/ipykernel_9973/3171202674.py:14: SettingWithCopyWarning: \n",
      "A value is trying to be set on a copy of a slice from a DataFrame\n",
      "\n",
      "See the caveats in the documentation: https://pandas.pydata.org/pandas-docs/stable/user_guide/indexing.html#returning-a-view-versus-a-copy\n",
      "  xtrain[\"FireplaceQu_Impute\"][xtrain[\"FireplaceQu_Impute\"].isnull()] = xtrain.FireplaceQu.dropna().sample(length,random_state=length).values\n",
      "/tmp/ipykernel_9973/3171202674.py:18: SettingWithCopyWarning: \n",
      "A value is trying to be set on a copy of a slice from a DataFrame\n",
      "\n",
      "See the caveats in the documentation: https://pandas.pydata.org/pandas-docs/stable/user_guide/indexing.html#returning-a-view-versus-a-copy\n",
      "  xtest[\"FireplaceQu_Impute\"][xtest[\"FireplaceQu_Impute\"].isnull()] = xtest.FireplaceQu.dropna().sample(length,random_state=length).values\n"
     ]
    }
   ],
   "source": [
    "# GarageQual xtrain\n",
    "length = xtrain.GarageQual.isnull().sum()\n",
    "xtrain[\"GarageQual_Impute\"][xtrain[\"GarageQual_Impute\"].isnull()] = xtrain.GarageQual.dropna().sample(length,random_state=length).values\n",
    "\n",
    "\n",
    "\n",
    "# GarageQual xtest\n",
    "length = xtest.GarageQual.isnull().sum()\n",
    "xtest[\"GarageQual_Impute\"][xtest[\"GarageQual_Impute\"].isnull()] = xtest.GarageQual.dropna().sample(length,random_state=length).values\n",
    "\n",
    "\n",
    "# FireplaceQu xtrain\n",
    "length = xtrain.FireplaceQu.isnull().sum()\n",
    "xtrain[\"FireplaceQu_Impute\"][xtrain[\"FireplaceQu_Impute\"].isnull()] = xtrain.FireplaceQu.dropna().sample(length,random_state=length).values\n",
    "\n",
    "# FireplaceQu xtest\n",
    "length = xtest.FireplaceQu.isnull().sum()\n",
    "xtest[\"FireplaceQu_Impute\"][xtest[\"FireplaceQu_Impute\"].isnull()] = xtest.FireplaceQu.dropna().sample(length,random_state=length).values\n"
   ]
  },
  {
   "cell_type": "code",
   "execution_count": 26,
   "id": "9474cc56",
   "metadata": {},
   "outputs": [
    {
     "data": {
      "text/plain": [
       "FireplaceQu           557\n",
       "GarageQual             65\n",
       "SalePrice               0\n",
       "GarageQual_Impute       0\n",
       "FireplaceQu_Impute      0\n",
       "dtype: int64"
      ]
     },
     "execution_count": 26,
     "metadata": {},
     "output_type": "execute_result"
    }
   ],
   "source": [
    "xtrain.isnull().sum()"
   ]
  },
  {
   "cell_type": "code",
   "execution_count": 27,
   "id": "f2ca2c7e",
   "metadata": {},
   "outputs": [
    {
     "data": {
      "text/plain": [
       "FireplaceQu           133\n",
       "GarageQual             16\n",
       "SalePrice               0\n",
       "GarageQual_Impute       0\n",
       "FireplaceQu_Impute      0\n",
       "dtype: int64"
      ]
     },
     "execution_count": 27,
     "metadata": {},
     "output_type": "execute_result"
    }
   ],
   "source": [
    "xtest.isnull().sum()"
   ]
  },
  {
   "cell_type": "markdown",
   "id": "5d5d8a56",
   "metadata": {},
   "source": [
    "# Check Frequency \n",
    "### org = Missing values_counts() / len(drop missing values) \n",
    "### imp = Missing values_count() / len(data)"
   ]
  },
  {
   "cell_type": "code",
   "execution_count": 28,
   "id": "12ab813e",
   "metadata": {},
   "outputs": [
    {
     "data": {
      "text/html": [
       "<div>\n",
       "<style scoped>\n",
       "    .dataframe tbody tr th:only-of-type {\n",
       "        vertical-align: middle;\n",
       "    }\n",
       "\n",
       "    .dataframe tbody tr th {\n",
       "        vertical-align: top;\n",
       "    }\n",
       "\n",
       "    .dataframe thead th {\n",
       "        text-align: right;\n",
       "    }\n",
       "</style>\n",
       "<table border=\"1\" class=\"dataframe\">\n",
       "  <thead>\n",
       "    <tr style=\"text-align: right;\">\n",
       "      <th></th>\n",
       "      <th>GarageQual</th>\n",
       "      <th>GarageQual_Impute</th>\n",
       "    </tr>\n",
       "  </thead>\n",
       "  <tbody>\n",
       "    <tr>\n",
       "      <th>TA</th>\n",
       "      <td>0.951043</td>\n",
       "      <td>0.948630</td>\n",
       "    </tr>\n",
       "    <tr>\n",
       "      <th>Fa</th>\n",
       "      <td>0.037171</td>\n",
       "      <td>0.040240</td>\n",
       "    </tr>\n",
       "    <tr>\n",
       "      <th>Gd</th>\n",
       "      <td>0.009973</td>\n",
       "      <td>0.009418</td>\n",
       "    </tr>\n",
       "    <tr>\n",
       "      <th>Po</th>\n",
       "      <td>0.000907</td>\n",
       "      <td>0.000856</td>\n",
       "    </tr>\n",
       "    <tr>\n",
       "      <th>Ex</th>\n",
       "      <td>0.000907</td>\n",
       "      <td>0.000856</td>\n",
       "    </tr>\n",
       "  </tbody>\n",
       "</table>\n",
       "</div>"
      ],
      "text/plain": [
       "    GarageQual  GarageQual_Impute\n",
       "TA    0.951043           0.948630\n",
       "Fa    0.037171           0.040240\n",
       "Gd    0.009973           0.009418\n",
       "Po    0.000907           0.000856\n",
       "Ex    0.000907           0.000856"
      ]
     },
     "execution_count": 28,
     "metadata": {},
     "output_type": "execute_result"
    }
   ],
   "source": [
    "org = pd.DataFrame(xtrain.GarageQual.value_counts() / len(xtrain.GarageQual.dropna()))\n",
    "imp = xtrain.GarageQual_Impute.value_counts() / len(xtrain)\n",
    "org[\"GarageQual_Impute\"] = imp\n",
    "org"
   ]
  },
  {
   "cell_type": "code",
   "execution_count": 29,
   "id": "712cfe72",
   "metadata": {},
   "outputs": [
    {
     "data": {
      "text/html": [
       "<div>\n",
       "<style scoped>\n",
       "    .dataframe tbody tr th:only-of-type {\n",
       "        vertical-align: middle;\n",
       "    }\n",
       "\n",
       "    .dataframe tbody tr th {\n",
       "        vertical-align: top;\n",
       "    }\n",
       "\n",
       "    .dataframe thead th {\n",
       "        text-align: right;\n",
       "    }\n",
       "</style>\n",
       "<table border=\"1\" class=\"dataframe\">\n",
       "  <thead>\n",
       "    <tr style=\"text-align: right;\">\n",
       "      <th></th>\n",
       "      <th>FireplaceQu</th>\n",
       "      <th>FireplaceQu_Impute</th>\n",
       "    </tr>\n",
       "  </thead>\n",
       "  <tbody>\n",
       "    <tr>\n",
       "      <th>Gd</th>\n",
       "      <td>0.494272</td>\n",
       "      <td>0.494007</td>\n",
       "    </tr>\n",
       "    <tr>\n",
       "      <th>TA</th>\n",
       "      <td>0.412439</td>\n",
       "      <td>0.410959</td>\n",
       "    </tr>\n",
       "    <tr>\n",
       "      <th>Fa</th>\n",
       "      <td>0.040917</td>\n",
       "      <td>0.041952</td>\n",
       "    </tr>\n",
       "    <tr>\n",
       "      <th>Po</th>\n",
       "      <td>0.027823</td>\n",
       "      <td>0.029110</td>\n",
       "    </tr>\n",
       "    <tr>\n",
       "      <th>Ex</th>\n",
       "      <td>0.024550</td>\n",
       "      <td>0.023973</td>\n",
       "    </tr>\n",
       "  </tbody>\n",
       "</table>\n",
       "</div>"
      ],
      "text/plain": [
       "    FireplaceQu  FireplaceQu_Impute\n",
       "Gd     0.494272            0.494007\n",
       "TA     0.412439            0.410959\n",
       "Fa     0.040917            0.041952\n",
       "Po     0.027823            0.029110\n",
       "Ex     0.024550            0.023973"
      ]
     },
     "execution_count": 29,
     "metadata": {},
     "output_type": "execute_result"
    }
   ],
   "source": [
    "org2 = pd.DataFrame(xtrain.FireplaceQu.value_counts() / len(xtrain.FireplaceQu.dropna()))\n",
    "imp2 = xtrain.FireplaceQu_Impute.value_counts() / len(xtrain)\n",
    "org2[\"FireplaceQu_Impute\"] = imp2\n",
    "org2"
   ]
  },
  {
   "cell_type": "markdown",
   "id": "5a819b8b",
   "metadata": {},
   "source": [
    "# Plot Graph"
   ]
  },
  {
   "cell_type": "markdown",
   "id": "c8cad33c",
   "metadata": {},
   "source": [
    "# GarageQual"
   ]
  },
  {
   "cell_type": "code",
   "execution_count": 30,
   "id": "46e97140",
   "metadata": {},
   "outputs": [
    {
     "data": {
      "text/plain": [
       "455      TA\n",
       "863     NaN\n",
       "504      Fa\n",
       "1413     Gd\n",
       "1389     Gd\n",
       "       ... \n",
       "466      Po\n",
       "299      Gd\n",
       "493      Fa\n",
       "527      Gd\n",
       "1192    NaN\n",
       "Name: FireplaceQu, Length: 1168, dtype: object"
      ]
     },
     "execution_count": 30,
     "metadata": {},
     "output_type": "execute_result"
    }
   ],
   "source": [
    "xtrain.FireplaceQu"
   ]
  },
  {
   "cell_type": "code",
   "execution_count": 35,
   "id": "e16c95cc",
   "metadata": {
    "scrolled": false
   },
   "outputs": [
    {
     "data": {
      "image/png": "[encoded data removed]",
      "text/plain": [
       "<Figure size 432x288 with 1 Axes>"
      ]
     },
     "metadata": {
      "needs_background": "light"
     },
     "output_type": "display_data"
    }
   ],
   "source": [
    "for i in sorted((xtrain.FireplaceQu_Impute.dropna()).unique()):\n",
    "    sns.kdeplot(xtrain[xtrain[\"FireplaceQu_Impute\"]==i][\"SalePrice\"],label=i)\n",
    "plt.legend()\n",
    "plt.title(\"After Apply Random Imputer\")\n",
    "plt.show()"
   ]
  },
  {
   "cell_type": "markdown",
   "id": "90d484c0",
   "metadata": {},
   "source": [
    "# kdeplot"
   ]
  },
  {
   "cell_type": "code",
   "execution_count": 32,
   "id": "d7246f5d",
   "metadata": {
    "scrolled": false
   },
   "outputs": [
    {
     "name": "stderr",
     "output_type": "stream",
     "text": [
      "/home/sweeterror404/.local/lib/python3.9/site-packages/seaborn/distributions.py:306: UserWarning: Dataset has 0 variance; skipping density estimate.\n",
      "  warnings.warn(msg, UserWarning)\n",
      "/home/sweeterror404/.local/lib/python3.9/site-packages/seaborn/distributions.py:306: UserWarning: Dataset has 0 variance; skipping density estimate.\n",
      "  warnings.warn(msg, UserWarning)\n",
      "/home/sweeterror404/.local/lib/python3.9/site-packages/seaborn/distributions.py:306: UserWarning: Dataset has 0 variance; skipping density estimate.\n",
      "  warnings.warn(msg, UserWarning)\n",
      "/home/sweeterror404/.local/lib/python3.9/site-packages/seaborn/distributions.py:306: UserWarning: Dataset has 0 variance; skipping density estimate.\n",
      "  warnings.warn(msg, UserWarning)\n"
     ]
    },
    {
     "data": {
      "image/png": "[encoded data removed]",
      "text/plain": [
       "<Figure size 1080x360 with 2 Axes>"
      ]
     },
     "metadata": {
      "needs_background": "light"
     },
     "output_type": "display_data"
    }
   ],
   "source": [
    "plt.figure(figsize=(15,5))\n",
    "\n",
    "plt.subplot(121)\n",
    "for i in sorted(xtrain.GarageQual.dropna().unique()):\n",
    "    sns.kdeplot(xtrain[xtrain.GarageQual == i][\"SalePrice\"],label=i)\n",
    "plt.legend()\n",
    "plt.title(\"GarageQual\")\n",
    "\n",
    "plt.subplot(122)\n",
    "\n",
    "for i in sorted(xtrain.GarageQual_Impute.dropna().unique()):\n",
    "    sns.kdeplot(xtrain[xtrain['GarageQual_Impute'] == i][\"SalePrice\"],label=i)\n",
    "\n",
    "plt.legend()\n",
    "plt.title(\"GarageQual_Impute\")\n",
    "\n",
    "plt.show()"
   ]
  },
  {
   "cell_type": "code",
   "execution_count": 33,
   "id": "a9f028a0",
   "metadata": {},
   "outputs": [
    {
     "data": {
      "image/png": "[encoded data removed]",
      "text/plain": [
       "<Figure size 1080x360 with 2 Axes>"
      ]
     },
     "metadata": {
      "needs_background": "light"
     },
     "output_type": "display_data"
    }
   ],
   "source": [
    "plt.figure(figsize=(15,5))\n",
    "\n",
    "plt.subplot(121)\n",
    "for i in sorted(xtrain.FireplaceQu.dropna().unique()):\n",
    "    sns.kdeplot(xtrain[xtrain.FireplaceQu == i][\"SalePrice\"],label=i)\n",
    "plt.legend()\n",
    "plt.title(\"FireplaceQu\")\n",
    "\n",
    "plt.subplot(122)\n",
    "\n",
    "for i in sorted(xtrain.FireplaceQu_Impute.dropna().unique()):\n",
    "    sns.kdeplot(xtrain[xtrain.FireplaceQu_Impute == i][\"SalePrice\"],label=i)\n",
    "\n",
    "plt.legend()\n",
    "plt.title(\"FireplaceQu_Impute\")\n",
    "\n",
    "plt.show()"
   ]
  },
  {
   "cell_type": "markdown",
   "id": "385bf467",
   "metadata": {},
   "source": [
    "## Random Impute are not Good For FireplaceQu Column on Categorical data !"
   ]
  }
 ],
 "metadata": {
  "kernelspec": {
   "display_name": "Python 3 (ipykernel)",
   "language": "python",
   "name": "python3"
  },
  "language_info": {
   "codemirror_mode": {
    "name": "ipython",
    "version": 3
   },
   "file_extension": ".py",
   "mimetype": "text/x-python",
   "name": "python",
   "nbconvert_exporter": "python",
   "pygments_lexer": "ipython3",
   "version": "3.9.2"
  }
 },
 "nbformat": 4,
 "nbformat_minor": 5
}
