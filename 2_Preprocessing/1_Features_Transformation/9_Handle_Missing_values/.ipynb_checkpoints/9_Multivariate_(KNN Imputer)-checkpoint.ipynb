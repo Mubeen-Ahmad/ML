{
 "cells": [
  {
   "cell_type": "markdown",
   "id": "45b648ad",
   "metadata": {},
   "source": [
    "# Multivariate\n",
    "\n",
    "## One type of imputation algorithm is Multivariate, which imputes values with using Multiple columns values\n"
   ]
  },
  {
   "cell_type": "markdown",
   "id": "4abf7ef7",
   "metadata": {},
   "source": [
    "# KNN Imputer\n",
    "\n",
    "## KNNImputer by scikit-learn is a widely used method to impute missing values. It is widely being observed as a replacement for traditional imputation techniques."
   ]
  },
  {
   "cell_type": "markdown",
   "id": "755f8202",
   "metadata": {},
   "source": [
    "## DrawBack And Advantages\n",
    "\n",
    "* ## Accurate Result\n",
    "* ## More No of Calculation\n",
    "* ## Need X_train Data After Deployment"
   ]
  },
  {
   "cell_type": "code",
   "execution_count": 1,
   "id": "d22df974",
   "metadata": {},
   "outputs": [],
   "source": [
    "import pandas as pd\n",
    "import numpy as np\n",
    "\n",
    "from sklearn.model_selection import  train_test_split\n",
    "from sklearn.impute import KNNImputer,SimpleImputer\n",
    "\n",
    "from sklearn.linear_model import LogisticRegression\n",
    "\n",
    "from sklearn.metrics import accuracy_score"
   ]
  },
  {
   "cell_type": "code",
   "execution_count": 2,
   "id": "7792f752",
   "metadata": {},
   "outputs": [
    {
     "data": {
      "text/html": [
       "<div>\n",
       "<style scoped>\n",
       "    .dataframe tbody tr th:only-of-type {\n",
       "        vertical-align: middle;\n",
       "    }\n",
       "\n",
       "    .dataframe tbody tr th {\n",
       "        vertical-align: top;\n",
       "    }\n",
       "\n",
       "    .dataframe thead th {\n",
       "        text-align: right;\n",
       "    }\n",
       "</style>\n",
       "<table border=\"1\" class=\"dataframe\">\n",
       "  <thead>\n",
       "    <tr style=\"text-align: right;\">\n",
       "      <th></th>\n",
       "      <th>Age</th>\n",
       "      <th>Pclass</th>\n",
       "      <th>Fare</th>\n",
       "      <th>Survived</th>\n",
       "    </tr>\n",
       "  </thead>\n",
       "  <tbody>\n",
       "    <tr>\n",
       "      <th>0</th>\n",
       "      <td>22.0</td>\n",
       "      <td>3</td>\n",
       "      <td>7.2500</td>\n",
       "      <td>0</td>\n",
       "    </tr>\n",
       "    <tr>\n",
       "      <th>1</th>\n",
       "      <td>38.0</td>\n",
       "      <td>1</td>\n",
       "      <td>71.2833</td>\n",
       "      <td>1</td>\n",
       "    </tr>\n",
       "    <tr>\n",
       "      <th>2</th>\n",
       "      <td>26.0</td>\n",
       "      <td>3</td>\n",
       "      <td>7.9250</td>\n",
       "      <td>1</td>\n",
       "    </tr>\n",
       "    <tr>\n",
       "      <th>3</th>\n",
       "      <td>35.0</td>\n",
       "      <td>1</td>\n",
       "      <td>53.1000</td>\n",
       "      <td>1</td>\n",
       "    </tr>\n",
       "    <tr>\n",
       "      <th>4</th>\n",
       "      <td>35.0</td>\n",
       "      <td>3</td>\n",
       "      <td>8.0500</td>\n",
       "      <td>0</td>\n",
       "    </tr>\n",
       "  </tbody>\n",
       "</table>\n",
       "</div>"
      ],
      "text/plain": [
       "    Age  Pclass     Fare  Survived\n",
       "0  22.0       3   7.2500         0\n",
       "1  38.0       1  71.2833         1\n",
       "2  26.0       3   7.9250         1\n",
       "3  35.0       1  53.1000         1\n",
       "4  35.0       3   8.0500         0"
      ]
     },
     "execution_count": 2,
     "metadata": {},
     "output_type": "execute_result"
    }
   ],
   "source": [
    "df = pd.read_csv(\"./train.csv\")[[\"Age\",\"Pclass\",\"Fare\",\"Survived\"]]\n",
    "df.head()"
   ]
  },
  {
   "cell_type": "code",
   "execution_count": 3,
   "id": "aebe7569",
   "metadata": {},
   "outputs": [
    {
     "data": {
      "text/plain": [
       "Age         19.86532\n",
       "Pclass       0.00000\n",
       "Fare         0.00000\n",
       "Survived     0.00000\n",
       "dtype: float64"
      ]
     },
     "execution_count": 3,
     "metadata": {},
     "output_type": "execute_result"
    }
   ],
   "source": [
    "df.isnull().mean() * 100"
   ]
  },
  {
   "cell_type": "code",
   "execution_count": 4,
   "id": "77ecefce",
   "metadata": {},
   "outputs": [],
   "source": [
    "x = df.drop(columns=[\"Survived\"])\n",
    "y = df.Survived"
   ]
  },
  {
   "cell_type": "code",
   "execution_count": 5,
   "id": "27b1adb6",
   "metadata": {},
   "outputs": [],
   "source": [
    "xtrain,xtest,ytrain,ytest = train_test_split(x,y,test_size=0.2,random_state=2)"
   ]
  },
  {
   "cell_type": "code",
   "execution_count": 6,
   "id": "c8185f50",
   "metadata": {},
   "outputs": [
    {
     "data": {
      "text/html": [
       "<div>\n",
       "<style scoped>\n",
       "    .dataframe tbody tr th:only-of-type {\n",
       "        vertical-align: middle;\n",
       "    }\n",
       "\n",
       "    .dataframe tbody tr th {\n",
       "        vertical-align: top;\n",
       "    }\n",
       "\n",
       "    .dataframe thead th {\n",
       "        text-align: right;\n",
       "    }\n",
       "</style>\n",
       "<table border=\"1\" class=\"dataframe\">\n",
       "  <thead>\n",
       "    <tr style=\"text-align: right;\">\n",
       "      <th></th>\n",
       "      <th>Age</th>\n",
       "      <th>Pclass</th>\n",
       "      <th>Fare</th>\n",
       "    </tr>\n",
       "  </thead>\n",
       "  <tbody>\n",
       "    <tr>\n",
       "      <th>30</th>\n",
       "      <td>40.0</td>\n",
       "      <td>1</td>\n",
       "      <td>27.7208</td>\n",
       "    </tr>\n",
       "    <tr>\n",
       "      <th>10</th>\n",
       "      <td>4.0</td>\n",
       "      <td>3</td>\n",
       "      <td>16.7000</td>\n",
       "    </tr>\n",
       "    <tr>\n",
       "      <th>873</th>\n",
       "      <td>47.0</td>\n",
       "      <td>3</td>\n",
       "      <td>9.0000</td>\n",
       "    </tr>\n",
       "    <tr>\n",
       "      <th>182</th>\n",
       "      <td>9.0</td>\n",
       "      <td>3</td>\n",
       "      <td>31.3875</td>\n",
       "    </tr>\n",
       "    <tr>\n",
       "      <th>876</th>\n",
       "      <td>20.0</td>\n",
       "      <td>3</td>\n",
       "      <td>9.8458</td>\n",
       "    </tr>\n",
       "  </tbody>\n",
       "</table>\n",
       "</div>"
      ],
      "text/plain": [
       "      Age  Pclass     Fare\n",
       "30   40.0       1  27.7208\n",
       "10    4.0       3  16.7000\n",
       "873  47.0       3   9.0000\n",
       "182   9.0       3  31.3875\n",
       "876  20.0       3   9.8458"
      ]
     },
     "execution_count": 6,
     "metadata": {},
     "output_type": "execute_result"
    }
   ],
   "source": [
    "xtrain.head()"
   ]
  },
  {
   "cell_type": "markdown",
   "id": "df10d59e",
   "metadata": {},
   "source": [
    "# Apply Knn Imputer\n",
    "\n",
    "###  class sklearn.impute.KNNImputer(*, \n",
    "* ### missing_values=nan, \n",
    "* ### n_neighbors=5, \n",
    "* ### weights='uniform', \n",
    "* ### metric='nan_euclidean', \n",
    "* ### copy=True, \n",
    "* ### add_indicator=False\n",
    "# )"
   ]
  },
  {
   "cell_type": "code",
   "execution_count": 7,
   "id": "d8d58073",
   "metadata": {},
   "outputs": [],
   "source": [
    "knn = KNNImputer()\n",
    "\n",
    "xtrain_trf_r = knn.fit_transform(xtrain)\n",
    "xtest_trf_r = knn.transform(xtest)"
   ]
  },
  {
   "cell_type": "markdown",
   "id": "f8ad2e73",
   "metadata": {},
   "source": [
    "# Apply Algorithm"
   ]
  },
  {
   "cell_type": "code",
   "execution_count": 8,
   "id": "0e1c06f8",
   "metadata": {},
   "outputs": [
    {
     "data": {
      "text/plain": [
       "0.7039106145251397"
      ]
     },
     "execution_count": 8,
     "metadata": {},
     "output_type": "execute_result"
    }
   ],
   "source": [
    "lr = LogisticRegression()\n",
    "\n",
    "lr.fit(xtrain_trf_r,ytrain)\n",
    "\n",
    "ypred = lr.predict(xtest_trf_r)\n",
    "\n",
    "accuracy_score(ytest,ypred)"
   ]
  },
  {
   "cell_type": "markdown",
   "id": "586c4588",
   "metadata": {},
   "source": [
    "# Change k "
   ]
  },
  {
   "cell_type": "code",
   "execution_count": 9,
   "id": "6c99785d",
   "metadata": {
    "scrolled": false
   },
   "outputs": [
    {
     "name": "stdout",
     "output_type": "stream",
     "text": [
      "5  -->  0.7039106145251397 \n",
      "\n",
      "6  -->  0.7039106145251397 \n",
      "\n",
      "7  -->  0.7039106145251397 \n",
      "\n",
      "8  -->  0.6983240223463687 \n",
      "\n",
      "9  -->  0.7039106145251397 \n",
      "\n",
      "10  -->  0.7039106145251397 \n",
      "\n"
     ]
    }
   ],
   "source": [
    "for i in range(5,11):\n",
    "    \n",
    "    knn = KNNImputer(n_neighbors=i)\n",
    "    \n",
    "    xtrain_trf = knn.fit_transform(xtrain)\n",
    "    xtest_trf = knn.transform(xtest)\n",
    "    lr = LogisticRegression()\n",
    "    lr.fit(xtrain_trf,ytrain)\n",
    "    ypred = lr.predict(xtest_trf)\n",
    "\n",
    "    print(i,\" --> \",accuracy_score(ytest,ypred),\"\\n\")"
   ]
  },
  {
   "cell_type": "markdown",
   "id": "37851a8b",
   "metadata": {},
   "source": [
    "# change default uniform to distance Weights"
   ]
  },
  {
   "cell_type": "code",
   "execution_count": 10,
   "id": "08ccbf07",
   "metadata": {},
   "outputs": [
    {
     "name": "stdout",
     "output_type": "stream",
     "text": [
      "5  -->  0.7094972067039106 \n",
      "\n",
      "6  -->  0.7039106145251397 \n",
      "\n",
      "7  -->  0.7039106145251397 \n",
      "\n",
      "8  -->  0.7039106145251397 \n",
      "\n",
      "9  -->  0.7039106145251397 \n",
      "\n",
      "10  -->  0.7039106145251397 \n",
      "\n"
     ]
    }
   ],
   "source": [
    "for i in range(5,11):\n",
    "    \n",
    "    knn = KNNImputer(n_neighbors=i,weights=\"distance\")\n",
    "    \n",
    "    xtrain_trf = knn.fit_transform(xtrain)\n",
    "    xtest_trf = knn.transform(xtest)\n",
    "    lr = LogisticRegression()\n",
    "    lr.fit(xtrain_trf,ytrain)\n",
    "    ypred = lr.predict(xtest_trf)\n",
    "\n",
    "    print(i,\" --> \",accuracy_score(ytest,ypred),\"\\n\")"
   ]
  },
  {
   "cell_type": "markdown",
   "id": "a2745b0f",
   "metadata": {},
   "source": [
    "# Compare with mean with SimpleImputer "
   ]
  },
  {
   "cell_type": "code",
   "execution_count": 11,
   "id": "6df78f05",
   "metadata": {},
   "outputs": [],
   "source": [
    "si  = SimpleImputer()\n",
    "\n",
    "xtrain_si = si.fit_transform(xtrain)\n",
    "xtest_si = si.transform(xtest)"
   ]
  },
  {
   "cell_type": "code",
   "execution_count": 12,
   "id": "1651f1d4",
   "metadata": {},
   "outputs": [
    {
     "data": {
      "text/plain": [
       "0.6927374301675978"
      ]
     },
     "execution_count": 12,
     "metadata": {},
     "output_type": "execute_result"
    }
   ],
   "source": [
    "lr = LogisticRegression()\n",
    "lr.fit(xtrain_si,ytrain)\n",
    "\n",
    "ypred = lr.predict(xtest_si)\n",
    "accuracy_score(ytest,ypred)"
   ]
  },
  {
   "cell_type": "code",
   "execution_count": 13,
   "id": "775acaad",
   "metadata": {},
   "outputs": [],
   "source": [
    "import matplotlib.pyplot as plt\n",
    "import seaborn as sns"
   ]
  },
  {
   "cell_type": "code",
   "execution_count": 14,
   "id": "54a84c42",
   "metadata": {},
   "outputs": [
    {
     "data": {
      "text/plain": [
       "((712, 3), (712, 3))"
      ]
     },
     "execution_count": 14,
     "metadata": {},
     "output_type": "execute_result"
    }
   ],
   "source": [
    "xtrain_trf_r.shape ,xtrain.shape"
   ]
  },
  {
   "cell_type": "code",
   "execution_count": 15,
   "id": "5e3e7077",
   "metadata": {},
   "outputs": [],
   "source": [
    "xtrain_org = pd.DataFrame(xtrain,columns=xtrain.columns)[\"Age\"]\n",
    "xtrain_kn = pd.DataFrame(xtrain_trf_r,columns=xtrain.columns)[\"Age\"]\n",
    "xtrain_si_r = pd.DataFrame(xtrain_si,columns=xtrain.columns)[\"Age\"]"
   ]
  },
  {
   "cell_type": "code",
   "execution_count": 16,
   "id": "df6c0bc6",
   "metadata": {},
   "outputs": [
    {
     "data": {
      "image/png": "[encoded data removed]",
      "text/plain": [
       "<Figure size 1440x720 with 1 Axes>"
      ]
     },
     "metadata": {
      "needs_background": "light"
     },
     "output_type": "display_data"
    }
   ],
   "source": [
    "plt.figure(figsize=(20,10))\n",
    "\n",
    "sns.kdeplot(xtrain_org,label=\"Original\")\n",
    "sns.kdeplot(xtrain_kn,label=\"KNN\")\n",
    "sns.kdeplot(xtrain_si_r,label=\"Simple Imputer\")\n",
    "plt.legend()\n",
    "plt.show()"
   ]
  }
 ],
 "metadata": {
  "kernelspec": {
   "display_name": "Python 3 (ipykernel)",
   "language": "python",
   "name": "python3"
  },
  "language_info": {
   "codemirror_mode": {
    "name": "ipython",
    "version": 3
   },
   "file_extension": ".py",
   "mimetype": "text/x-python",
   "name": "python",
   "nbconvert_exporter": "python",
   "pygments_lexer": "ipython3",
   "version": "3.9.2"
  }
 },
 "nbformat": 4,
 "nbformat_minor": 5
}
