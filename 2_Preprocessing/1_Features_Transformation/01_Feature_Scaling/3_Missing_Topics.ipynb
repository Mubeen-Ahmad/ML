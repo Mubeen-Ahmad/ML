{
 "cells": [
  {
   "cell_type": "markdown",
   "id": "5c88e40c",
   "metadata": {},
   "source": [
    "# Topic Missing\n"
   ]
  },
  {
   "cell_type": "markdown",
   "id": "046e9649",
   "metadata": {},
   "source": [
    "## Standardization\n",
    "* # Standard Deviation Scaling\n",
    "* # Range Method"
   ]
  }
 ],
 "metadata": {
  "kernelspec": {
   "display_name": "Python 3 (ipykernel)",
   "language": "python",
   "name": "python3"
  },
  "language_info": {
   "codemirror_mode": {
    "name": "ipython",
    "version": 3
   },
   "file_extension": ".py",
   "mimetype": "text/x-python",
   "name": "python",
   "nbconvert_exporter": "python",
   "pygments_lexer": "ipython3",
   "version": "3.9.2"
  }
 },
 "nbformat": 4,
 "nbformat_minor": 5
}
