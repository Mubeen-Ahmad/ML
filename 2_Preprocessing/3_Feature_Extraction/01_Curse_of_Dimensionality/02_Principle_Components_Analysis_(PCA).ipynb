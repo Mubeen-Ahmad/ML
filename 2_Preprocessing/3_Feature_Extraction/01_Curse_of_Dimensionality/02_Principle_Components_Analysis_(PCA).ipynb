{
 "cells": [
  {
   "cell_type": "markdown",
   "id": "039bd395",
   "metadata": {},
   "source": [
    "<h1>Principle Components Analysis (PCA)</h1>\n",
    "<h2>PCA is the UN-Supervise Problem</h2>\n",
    "<h3>Principal Component Analysis is a statistical process that converts the observations of correlated features into a set of linearly uncorrelated features with the help of orthogonal transformation.<br><br> \n",
    "    These new transformed features are called the Principal Components. It is one of the popular tools that is used for exploratory data analysis and predictive modeling.<br><br>\n",
    "PCA is a linear dimensionality reduction algorithm that helps us in extracting a new set of variables from an existing large set of variables which are called Principal Components.<br><br>\n",
    "it finds the best linear combinations of the original variables so that the variance or spread along the new variable is maximum.\n",
    "\n",
    "\n",
    "</h3>"
   ]
  },
  {
   "cell_type": "code",
   "execution_count": null,
   "id": "a4ff216e",
   "metadata": {},
   "outputs": [],
   "source": [
    "\n"
   ]
  }
 ],
 "metadata": {
  "kernelspec": {
   "display_name": "Python 3 (ipykernel)",
   "language": "python",
   "name": "python3"
  },
  "language_info": {
   "codemirror_mode": {
    "name": "ipython",
    "version": 3
   },
   "file_extension": ".py",
   "mimetype": "text/x-python",
   "name": "python",
   "nbconvert_exporter": "python",
   "pygments_lexer": "ipython3",
   "version": "3.10.6"
  }
 },
 "nbformat": 4,
 "nbformat_minor": 5
}
