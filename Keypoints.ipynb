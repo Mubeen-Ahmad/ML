{
 "cells": [
  {
   "cell_type": "markdown",
   "id": "866f9946",
   "metadata": {},
   "source": [
    "##  In Feature Selection\n",
    "###  Recommended To use MinMax Scaler\n",
    "* ### else we are used Standarad Scaler"
   ]
  },
  {
   "cell_type": "markdown",
   "id": "637fee13",
   "metadata": {},
   "source": [
    "## Simple Imputer\n",
    "* ### strategy = \"most_frequent\" are used for String Column"
   ]
  },
  {
   "cell_type": "markdown",
   "id": "9be2a598",
   "metadata": {},
   "source": [
    "# Ordinal Encoding\n",
    "* # used on x (Features)"
   ]
  },
  {
   "cell_type": "markdown",
   "id": "4ec27b82",
   "metadata": {},
   "source": [
    "# Label Encoding\n",
    "* # used on y (Target/outputs)"
   ]
  },
  {
   "cell_type": "markdown",
   "id": "fb20fff9",
   "metadata": {},
   "source": [
    "# Nominal \n",
    "   ## One Hot Encoding\n",
    "   * ## used on Features \n",
    "   * ## Apply on un-ordered Data e.g red, green , blue"
   ]
  },
  {
   "cell_type": "markdown",
   "id": "dd1bfc3e",
   "metadata": {},
   "source": [
    "# Simple Imputer \n",
    "* # handling Missing values\n",
    "* # strategy='most_frequent' are used for string data ignore Error"
   ]
  },
  {
   "cell_type": "markdown",
   "id": "19d6aae9",
   "metadata": {},
   "source": [
    "# one hot Encoder parameters\n",
    "* ## sparse=False not return sparse array\n",
    "* ## handle_unknown='ignore'\n",
    "* ## handle unknown error means ( unknown Categories )"
   ]
  },
  {
   "cell_type": "code",
   "execution_count": null,
   "id": "afbab4eb",
   "metadata": {},
   "outputs": [],
   "source": []
  }
 ],
 "metadata": {
  "kernelspec": {
   "display_name": "Python 3 (ipykernel)",
   "language": "python",
   "name": "python3"
  },
  "language_info": {
   "codemirror_mode": {
    "name": "ipython",
    "version": 3
   },
   "file_extension": ".py",
   "mimetype": "text/x-python",
   "name": "python",
   "nbconvert_exporter": "python",
   "pygments_lexer": "ipython3",
   "version": "3.9.2"
  }
 },
 "nbformat": 4,
 "nbformat_minor": 5
}
