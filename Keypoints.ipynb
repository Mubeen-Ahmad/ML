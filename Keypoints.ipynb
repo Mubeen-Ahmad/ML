{
 "cells": [
  {
   "cell_type": "markdown",
   "id": "866f9946",
   "metadata": {},
   "source": [
    "##  In Feature Selection\n",
    "###  Recommended To use MinMax Scaler\n",
    "* ### else we are used Standarad Scaler"
   ]
  },
  {
   "cell_type": "markdown",
   "id": "637fee13",
   "metadata": {},
   "source": [
    "## Simple Imputer\n",
    "* ### strategy = \"most_frequent\" are used for String Column"
   ]
  }
 ],
 "metadata": {
  "kernelspec": {
   "display_name": "Python 3 (ipykernel)",
   "language": "python",
   "name": "python3"
  },
  "language_info": {
   "codemirror_mode": {
    "name": "ipython",
    "version": 3
   },
   "file_extension": ".py",
   "mimetype": "text/x-python",
   "name": "python",
   "nbconvert_exporter": "python",
   "pygments_lexer": "ipython3",
   "version": "3.9.2"
  }
 },
 "nbformat": 4,
 "nbformat_minor": 5
}
