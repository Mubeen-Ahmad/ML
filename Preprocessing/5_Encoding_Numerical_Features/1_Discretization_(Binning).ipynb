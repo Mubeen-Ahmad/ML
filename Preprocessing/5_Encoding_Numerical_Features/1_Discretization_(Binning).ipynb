{
 "cells": [
  {
   "cell_type": "markdown",
   "id": "6d7db003",
   "metadata": {},
   "source": [
    "# There are two common Techniques for Numerical Encoding"
   ]
  },
  {
   "cell_type": "markdown",
   "id": "6e444717",
   "metadata": {},
   "source": [
    "* ## 1 Discretization / Binning\n",
    "* ## 2 Binarization"
   ]
  },
  {
   "cell_type": "markdown",
   "id": "e8e3df06",
   "metadata": {},
   "source": [
    "## In applied mathematics, discretization is the process of transferring continuous functions, models, variables, and equations into discrete counterparts."
   ]
  },
  {
   "cell_type": "markdown",
   "id": "b9e7f14b",
   "metadata": {},
   "source": [
    "# Use of Discretization\n",
    "\n",
    "* ## To Handle Outliers\n",
    "* ## To Improve the value spread"
   ]
  },
  {
   "cell_type": "markdown",
   "id": "755396ef",
   "metadata": {},
   "source": [
    "# Types of Discretization\n",
    "* # Unsupervised\n",
    "    * ## Three Types Of Unsupervised Discretization\n",
    "        * ### Equal Width / Uniform\n",
    "        * ### Equal Frequency / Quantile\n",
    "        * ### K-Means\n",
    "        <br>\n",
    "* # Supervised\n",
    "    * ## Only One Type of Supervised Discretization\n",
    "        * ### Decision Tree \n",
    "* # Custom\n",
    "<br>"
   ]
  },
  {
   "cell_type": "markdown",
   "id": "8d4b75a7",
   "metadata": {},
   "source": [
    "# Unsupervised Discretization\n",
    "\n",
    "## Equal Width / Uniform"
   ]
  },
  {
   "cell_type": "code",
   "execution_count": 51,
   "id": "e63baf00",
   "metadata": {},
   "outputs": [],
   "source": [
    "import pandas as pd\n",
    "import numpy as np\n",
    "import matplotlib.pyplot as plt\n",
    "\n",
    "from sklearn.model_selection import train_test_split,cross_val_score\n",
    "from sklearn.metrics import accuracy_score\n",
    "from sklearn.compose import ColumnTransformer\n",
    "\n",
    "from sklearn.tree import DecisionTreeClassifier\n",
    "\n",
    "\n",
    "from sklearn.preprocessing import KBinsDiscretizer"
   ]
  },
  {
   "cell_type": "code",
   "execution_count": 52,
   "id": "e251e062",
   "metadata": {},
   "outputs": [
    {
     "data": {
      "text/html": [
       "<div>\n",
       "<style scoped>\n",
       "    .dataframe tbody tr th:only-of-type {\n",
       "        vertical-align: middle;\n",
       "    }\n",
       "\n",
       "    .dataframe tbody tr th {\n",
       "        vertical-align: top;\n",
       "    }\n",
       "\n",
       "    .dataframe thead th {\n",
       "        text-align: right;\n",
       "    }\n",
       "</style>\n",
       "<table border=\"1\" class=\"dataframe\">\n",
       "  <thead>\n",
       "    <tr style=\"text-align: right;\">\n",
       "      <th></th>\n",
       "      <th>Survived</th>\n",
       "      <th>Age</th>\n",
       "      <th>Fare</th>\n",
       "    </tr>\n",
       "  </thead>\n",
       "  <tbody>\n",
       "    <tr>\n",
       "      <th>0</th>\n",
       "      <td>0</td>\n",
       "      <td>22.0</td>\n",
       "      <td>7.2500</td>\n",
       "    </tr>\n",
       "    <tr>\n",
       "      <th>1</th>\n",
       "      <td>1</td>\n",
       "      <td>38.0</td>\n",
       "      <td>71.2833</td>\n",
       "    </tr>\n",
       "    <tr>\n",
       "      <th>2</th>\n",
       "      <td>1</td>\n",
       "      <td>26.0</td>\n",
       "      <td>7.9250</td>\n",
       "    </tr>\n",
       "    <tr>\n",
       "      <th>3</th>\n",
       "      <td>1</td>\n",
       "      <td>35.0</td>\n",
       "      <td>53.1000</td>\n",
       "    </tr>\n",
       "    <tr>\n",
       "      <th>4</th>\n",
       "      <td>0</td>\n",
       "      <td>35.0</td>\n",
       "      <td>8.0500</td>\n",
       "    </tr>\n",
       "  </tbody>\n",
       "</table>\n",
       "</div>"
      ],
      "text/plain": [
       "   Survived   Age     Fare\n",
       "0         0  22.0   7.2500\n",
       "1         1  38.0  71.2833\n",
       "2         1  26.0   7.9250\n",
       "3         1  35.0  53.1000\n",
       "4         0  35.0   8.0500"
      ]
     },
     "execution_count": 52,
     "metadata": {},
     "output_type": "execute_result"
    }
   ],
   "source": [
    "data = pd.read_csv(\"train.csv\",usecols=[\"Age\",\"Fare\",\"Survived\"])\n",
    "data.head()"
   ]
  },
  {
   "cell_type": "markdown",
   "id": "65ac1537",
   "metadata": {},
   "source": [
    "# drop value"
   ]
  },
  {
   "cell_type": "code",
   "execution_count": 53,
   "id": "14a0dc90",
   "metadata": {},
   "outputs": [
    {
     "data": {
      "text/plain": [
       "(891, 3)"
      ]
     },
     "execution_count": 53,
     "metadata": {},
     "output_type": "execute_result"
    }
   ],
   "source": [
    "data.shape"
   ]
  },
  {
   "cell_type": "code",
   "execution_count": 54,
   "id": "46293851",
   "metadata": {},
   "outputs": [],
   "source": [
    "data.dropna(inplace=True)"
   ]
  },
  {
   "cell_type": "code",
   "execution_count": 55,
   "id": "03be5fdb",
   "metadata": {},
   "outputs": [
    {
     "data": {
      "text/plain": [
       "(714, 3)"
      ]
     },
     "execution_count": 55,
     "metadata": {},
     "output_type": "execute_result"
    }
   ],
   "source": [
    "data.shape"
   ]
  },
  {
   "cell_type": "code",
   "execution_count": 56,
   "id": "a6a0421f",
   "metadata": {},
   "outputs": [],
   "source": [
    "x = data.iloc[:,1:]\n",
    "y = data.iloc[:,0]"
   ]
  },
  {
   "cell_type": "code",
   "execution_count": 57,
   "id": "903d2333",
   "metadata": {},
   "outputs": [],
   "source": [
    "xtrain , xtest, ytarin, ytest = train_test_split(x,y,test_size=0.2,random_state=42) "
   ]
  },
  {
   "cell_type": "markdown",
   "id": "72fc97b3",
   "metadata": {},
   "source": [
    "# Fit Model"
   ]
  },
  {
   "cell_type": "code",
   "execution_count": 58,
   "id": "3e296e28",
   "metadata": {},
   "outputs": [
    {
     "data": {
      "text/html": [
       "<style>#sk-container-id-3 {color: black;background-color: white;}#sk-container-id-3 pre{padding: 0;}#sk-container-id-3 div.sk-toggleable {background-color: white;}#sk-container-id-3 label.sk-toggleable__label {cursor: pointer;display: block;width: 100%;margin-bottom: 0;padding: 0.3em;box-sizing: border-box;text-align: center;}#sk-container-id-3 label.sk-toggleable__label-arrow:before {content: \"▸\";float: left;margin-right: 0.25em;color: #696969;}#sk-container-id-3 label.sk-toggleable__label-arrow:hover:before {color: black;}#sk-container-id-3 div.sk-estimator:hover label.sk-toggleable__label-arrow:before {color: black;}#sk-container-id-3 div.sk-toggleable__content {max-height: 0;max-width: 0;overflow: hidden;text-align: left;background-color: #f0f8ff;}#sk-container-id-3 div.sk-toggleable__content pre {margin: 0.2em;color: black;border-radius: 0.25em;background-color: #f0f8ff;}#sk-container-id-3 input.sk-toggleable__control:checked~div.sk-toggleable__content {max-height: 200px;max-width: 100%;overflow: auto;}#sk-container-id-3 input.sk-toggleable__control:checked~label.sk-toggleable__label-arrow:before {content: \"▾\";}#sk-container-id-3 div.sk-estimator input.sk-toggleable__control:checked~label.sk-toggleable__label {background-color: #d4ebff;}#sk-container-id-3 div.sk-label input.sk-toggleable__control:checked~label.sk-toggleable__label {background-color: #d4ebff;}#sk-container-id-3 input.sk-hidden--visually {border: 0;clip: rect(1px 1px 1px 1px);clip: rect(1px, 1px, 1px, 1px);height: 1px;margin: -1px;overflow: hidden;padding: 0;position: absolute;width: 1px;}#sk-container-id-3 div.sk-estimator {font-family: monospace;background-color: #f0f8ff;border: 1px dotted black;border-radius: 0.25em;box-sizing: border-box;margin-bottom: 0.5em;}#sk-container-id-3 div.sk-estimator:hover {background-color: #d4ebff;}#sk-container-id-3 div.sk-parallel-item::after {content: \"\";width: 100%;border-bottom: 1px solid gray;flex-grow: 1;}#sk-container-id-3 div.sk-label:hover label.sk-toggleable__label {background-color: #d4ebff;}#sk-container-id-3 div.sk-serial::before {content: \"\";position: absolute;border-left: 1px solid gray;box-sizing: border-box;top: 0;bottom: 0;left: 50%;z-index: 0;}#sk-container-id-3 div.sk-serial {display: flex;flex-direction: column;align-items: center;background-color: white;padding-right: 0.2em;padding-left: 0.2em;position: relative;}#sk-container-id-3 div.sk-item {position: relative;z-index: 1;}#sk-container-id-3 div.sk-parallel {display: flex;align-items: stretch;justify-content: center;background-color: white;position: relative;}#sk-container-id-3 div.sk-item::before, #sk-container-id-3 div.sk-parallel-item::before {content: \"\";position: absolute;border-left: 1px solid gray;box-sizing: border-box;top: 0;bottom: 0;left: 50%;z-index: -1;}#sk-container-id-3 div.sk-parallel-item {display: flex;flex-direction: column;z-index: 1;position: relative;background-color: white;}#sk-container-id-3 div.sk-parallel-item:first-child::after {align-self: flex-end;width: 50%;}#sk-container-id-3 div.sk-parallel-item:last-child::after {align-self: flex-start;width: 50%;}#sk-container-id-3 div.sk-parallel-item:only-child::after {width: 0;}#sk-container-id-3 div.sk-dashed-wrapped {border: 1px dashed gray;margin: 0 0.4em 0.5em 0.4em;box-sizing: border-box;padding-bottom: 0.4em;background-color: white;}#sk-container-id-3 div.sk-label label {font-family: monospace;font-weight: bold;display: inline-block;line-height: 1.2em;}#sk-container-id-3 div.sk-label-container {text-align: center;}#sk-container-id-3 div.sk-container {/* jupyter's `normalize.less` sets `[hidden] { display: none; }` but bootstrap.min.css set `[hidden] { display: none !important; }` so we also need the `!important` here to be able to override the default hidden behavior on the sphinx rendered scikit-learn.org. See: https://github.com/scikit-learn/scikit-learn/issues/21755 */display: inline-block !important;position: relative;}#sk-container-id-3 div.sk-text-repr-fallback {display: none;}</style><div id=\"sk-container-id-3\" class=\"sk-top-container\"><div class=\"sk-text-repr-fallback\"><pre>DecisionTreeClassifier()</pre><b>In a Jupyter environment, please rerun this cell to show the HTML representation or trust the notebook. <br />On GitHub, the HTML representation is unable to render, please try loading this page with nbviewer.org.</b></div><div class=\"sk-container\" hidden><div class=\"sk-item\"><div class=\"sk-estimator sk-toggleable\"><input class=\"sk-toggleable__control sk-hidden--visually\" id=\"sk-estimator-id-3\" type=\"checkbox\" checked><label for=\"sk-estimator-id-3\" class=\"sk-toggleable__label sk-toggleable__label-arrow\">DecisionTreeClassifier</label><div class=\"sk-toggleable__content\"><pre>DecisionTreeClassifier()</pre></div></div></div></div></div>"
      ],
      "text/plain": [
       "DecisionTreeClassifier()"
      ]
     },
     "execution_count": 58,
     "metadata": {},
     "output_type": "execute_result"
    }
   ],
   "source": [
    "clf = DecisionTreeClassifier()\n",
    "clf.fit(xtrain,ytarin)"
   ]
  },
  {
   "cell_type": "markdown",
   "id": "48dc3219",
   "metadata": {},
   "source": [
    "# Predection"
   ]
  },
  {
   "cell_type": "code",
   "execution_count": 91,
   "id": "43135942",
   "metadata": {},
   "outputs": [],
   "source": [
    "ypred = clf.predict(xtest)"
   ]
  },
  {
   "cell_type": "markdown",
   "id": "69df9802",
   "metadata": {},
   "source": [
    "# Accuracy"
   ]
  },
  {
   "cell_type": "code",
   "execution_count": 92,
   "id": "4b3faae1",
   "metadata": {},
   "outputs": [
    {
     "data": {
      "text/plain": [
       "0.6433566433566433"
      ]
     },
     "execution_count": 92,
     "metadata": {},
     "output_type": "execute_result"
    }
   ],
   "source": [
    "accuracy_score(ytest,ypred)"
   ]
  },
  {
   "cell_type": "markdown",
   "id": "c0df93aa",
   "metadata": {},
   "source": [
    "# Cross Val"
   ]
  },
  {
   "cell_type": "code",
   "execution_count": 93,
   "id": "ed7e0be5",
   "metadata": {},
   "outputs": [
    {
     "data": {
      "text/plain": [
       "0.624706572769953"
      ]
     },
     "execution_count": 93,
     "metadata": {},
     "output_type": "execute_result"
    }
   ],
   "source": [
    "np.mean(cross_val_score(DecisionTreeClassifier(),x,y,scoring=\"accuracy\",cv=10))"
   ]
  },
  {
   "cell_type": "markdown",
   "id": "fe39f7ed",
   "metadata": {},
   "source": [
    "# Apply Equal Width / Uniform"
   ]
  },
  {
   "cell_type": "code",
   "execution_count": 110,
   "id": "fec3bfb2",
   "metadata": {},
   "outputs": [],
   "source": [
    "kbin_age = KBinsDiscretizer(n_bins=15,strategy='uniform',encode=\"ordinal\")\n",
    "kbin_fare = KBinsDiscretizer(n_bins=15,strategy='uniform',encode=\"ordinal\")"
   ]
  },
  {
   "cell_type": "code",
   "execution_count": 111,
   "id": "637715b2",
   "metadata": {},
   "outputs": [],
   "source": [
    "trf = ColumnTransformer(\n",
    "[\n",
    "    \n",
    "    (\"f1\",kbin_age,[0]),\n",
    "    (\"f2\",kbin_age,[1]),\n",
    "\n",
    "]\n",
    "\n",
    ")"
   ]
  },
  {
   "cell_type": "code",
   "execution_count": 112,
   "id": "3ec89e88",
   "metadata": {},
   "outputs": [],
   "source": [
    "XTR = trf.fit_transform(xtrain)\n",
    "XTS = trf.transform(xtest)"
   ]
  },
  {
   "cell_type": "markdown",
   "id": "e2f91870",
   "metadata": {},
   "source": [
    "# Check Transform"
   ]
  },
  {
   "cell_type": "code",
   "execution_count": 113,
   "id": "dd22b3c2",
   "metadata": {},
   "outputs": [
    {
     "data": {
      "text/plain": [
       "{'f1': KBinsDiscretizer(encode='ordinal', n_bins=15, strategy='uniform'),\n",
       " 'f2': KBinsDiscretizer(encode='ordinal', n_bins=15, strategy='uniform')}"
      ]
     },
     "execution_count": 113,
     "metadata": {},
     "output_type": "execute_result"
    }
   ],
   "source": [
    "trf.named_transformers_"
   ]
  },
  {
   "cell_type": "markdown",
   "id": "5bacb089",
   "metadata": {},
   "source": [
    "# Check Bins"
   ]
  },
  {
   "cell_type": "code",
   "execution_count": 114,
   "id": "743498e1",
   "metadata": {},
   "outputs": [
    {
     "data": {
      "text/plain": [
       "array([15])"
      ]
     },
     "execution_count": 114,
     "metadata": {},
     "output_type": "execute_result"
    }
   ],
   "source": [
    "trf.named_transformers_[\"f1\"].n_bins_"
   ]
  },
  {
   "cell_type": "markdown",
   "id": "c61fff74",
   "metadata": {},
   "source": [
    "# Check Edges range"
   ]
  },
  {
   "cell_type": "code",
   "execution_count": 115,
   "id": "963856b9",
   "metadata": {},
   "outputs": [
    {
     "data": {
      "text/plain": [
       "array([array([ 0.42      ,  5.72533333, 11.03066667, 16.336     , 21.64133333,\n",
       "              26.94666667, 32.252     , 37.55733333, 42.86266667, 48.168     ,\n",
       "              53.47333333, 58.77866667, 64.084     , 69.38933333, 74.69466667,\n",
       "              80.        ])                                                   ],\n",
       "      dtype=object)"
      ]
     },
     "execution_count": 115,
     "metadata": {},
     "output_type": "execute_result"
    }
   ],
   "source": [
    "trf.named_transformers_[\"f1\"].bin_edges_"
   ]
  },
  {
   "cell_type": "code",
   "execution_count": 116,
   "id": "cab61048",
   "metadata": {},
   "outputs": [
    {
     "data": {
      "text/plain": [
       "array([array([  0.     ,  34.15528,  68.31056, 102.46584, 136.62112, 170.7764 ,\n",
       "              204.93168, 239.08696, 273.24224, 307.39752, 341.5528 , 375.70808,\n",
       "              409.86336, 444.01864, 478.17392, 512.3292 ])                     ],\n",
       "      dtype=object)"
      ]
     },
     "execution_count": 116,
     "metadata": {},
     "output_type": "execute_result"
    }
   ],
   "source": [
    "trf.named_transformers_[\"f2\"].bin_edges_"
   ]
  },
  {
   "cell_type": "code",
   "execution_count": 117,
   "id": "2a811983",
   "metadata": {},
   "outputs": [
    {
     "data": {
      "text/html": [
       "<div>\n",
       "<style scoped>\n",
       "    .dataframe tbody tr th:only-of-type {\n",
       "        vertical-align: middle;\n",
       "    }\n",
       "\n",
       "    .dataframe tbody tr th {\n",
       "        vertical-align: top;\n",
       "    }\n",
       "\n",
       "    .dataframe thead th {\n",
       "        text-align: right;\n",
       "    }\n",
       "</style>\n",
       "<table border=\"1\" class=\"dataframe\">\n",
       "  <thead>\n",
       "    <tr style=\"text-align: right;\">\n",
       "      <th></th>\n",
       "      <th>age</th>\n",
       "      <th>age_trf</th>\n",
       "      <th>fare</th>\n",
       "      <th>fare_trf</th>\n",
       "    </tr>\n",
       "  </thead>\n",
       "  <tbody>\n",
       "    <tr>\n",
       "      <th>328</th>\n",
       "      <td>31.0</td>\n",
       "      <td>5.0</td>\n",
       "      <td>20.5250</td>\n",
       "      <td>0.0</td>\n",
       "    </tr>\n",
       "    <tr>\n",
       "      <th>73</th>\n",
       "      <td>26.0</td>\n",
       "      <td>4.0</td>\n",
       "      <td>14.4542</td>\n",
       "      <td>0.0</td>\n",
       "    </tr>\n",
       "    <tr>\n",
       "      <th>253</th>\n",
       "      <td>30.0</td>\n",
       "      <td>5.0</td>\n",
       "      <td>16.1000</td>\n",
       "      <td>0.0</td>\n",
       "    </tr>\n",
       "    <tr>\n",
       "      <th>719</th>\n",
       "      <td>33.0</td>\n",
       "      <td>6.0</td>\n",
       "      <td>7.7750</td>\n",
       "      <td>0.0</td>\n",
       "    </tr>\n",
       "    <tr>\n",
       "      <th>666</th>\n",
       "      <td>25.0</td>\n",
       "      <td>4.0</td>\n",
       "      <td>13.0000</td>\n",
       "      <td>0.0</td>\n",
       "    </tr>\n",
       "    <tr>\n",
       "      <th>...</th>\n",
       "      <td>...</td>\n",
       "      <td>...</td>\n",
       "      <td>...</td>\n",
       "      <td>...</td>\n",
       "    </tr>\n",
       "    <tr>\n",
       "      <th>92</th>\n",
       "      <td>46.0</td>\n",
       "      <td>8.0</td>\n",
       "      <td>61.1750</td>\n",
       "      <td>1.0</td>\n",
       "    </tr>\n",
       "    <tr>\n",
       "      <th>134</th>\n",
       "      <td>25.0</td>\n",
       "      <td>4.0</td>\n",
       "      <td>13.0000</td>\n",
       "      <td>0.0</td>\n",
       "    </tr>\n",
       "    <tr>\n",
       "      <th>337</th>\n",
       "      <td>41.0</td>\n",
       "      <td>7.0</td>\n",
       "      <td>134.5000</td>\n",
       "      <td>3.0</td>\n",
       "    </tr>\n",
       "    <tr>\n",
       "      <th>548</th>\n",
       "      <td>33.0</td>\n",
       "      <td>6.0</td>\n",
       "      <td>20.5250</td>\n",
       "      <td>0.0</td>\n",
       "    </tr>\n",
       "    <tr>\n",
       "      <th>130</th>\n",
       "      <td>33.0</td>\n",
       "      <td>6.0</td>\n",
       "      <td>7.8958</td>\n",
       "      <td>0.0</td>\n",
       "    </tr>\n",
       "  </tbody>\n",
       "</table>\n",
       "<p>571 rows × 4 columns</p>\n",
       "</div>"
      ],
      "text/plain": [
       "      age  age_trf      fare  fare_trf\n",
       "328  31.0      5.0   20.5250       0.0\n",
       "73   26.0      4.0   14.4542       0.0\n",
       "253  30.0      5.0   16.1000       0.0\n",
       "719  33.0      6.0    7.7750       0.0\n",
       "666  25.0      4.0   13.0000       0.0\n",
       "..    ...      ...       ...       ...\n",
       "92   46.0      8.0   61.1750       1.0\n",
       "134  25.0      4.0   13.0000       0.0\n",
       "337  41.0      7.0  134.5000       3.0\n",
       "548  33.0      6.0   20.5250       0.0\n",
       "130  33.0      6.0    7.8958       0.0\n",
       "\n",
       "[571 rows x 4 columns]"
      ]
     },
     "execution_count": 117,
     "metadata": {},
     "output_type": "execute_result"
    }
   ],
   "source": [
    "pd.DataFrame({\n",
    "    \"age\":xtrain[\"Age\"],\n",
    "    \"age_trf\":XTR[:,0],\n",
    "\n",
    "    \"fare\":xtrain[\"Fare\"],\n",
    "    \"fare_trf\":XTR[:,1],\n",
    "\n",
    "})"
   ]
  }
 ],
 "metadata": {
  "kernelspec": {
   "display_name": "Python 3 (ipykernel)",
   "language": "python",
   "name": "python3"
  },
  "language_info": {
   "codemirror_mode": {
    "name": "ipython",
    "version": 3
   },
   "file_extension": ".py",
   "mimetype": "text/x-python",
   "name": "python",
   "nbconvert_exporter": "python",
   "pygments_lexer": "ipython3",
   "version": "3.9.2"
  }
 },
 "nbformat": 4,
 "nbformat_minor": 5
}
