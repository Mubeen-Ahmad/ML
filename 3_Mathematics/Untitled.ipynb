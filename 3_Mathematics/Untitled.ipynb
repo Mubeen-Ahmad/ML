{
 "cells": [
  {
   "cell_type": "code",
   "execution_count": 58,
   "id": "028a7694",
   "metadata": {},
   "outputs": [],
   "source": [
    "import handcalcs.render\n",
    "from math import sqrt, pi,log"
   ]
  },
  {
   "cell_type": "code",
   "execution_count": 84,
   "id": "dd058e86",
   "metadata": {},
   "outputs": [
    {
     "name": "stdout",
     "output_type": "stream",
     "text": [
      "\\[\n",
      "\\begin{aligned}\n",
      "\\mathrm{log} &= <built-in function log> \\; \n",
      "\\end{aligned}\n",
      "\\]\n"
     ]
    }
   ],
   "source": [
    "%%tex\n"
   ]
  },
  {
   "cell_type": "code",
   "execution_count": 93,
   "id": "4cc805a2",
   "metadata": {},
   "outputs": [],
   "source": [
    "from sympy import *\n"
   ]
  },
  {
   "cell_type": "code",
   "execution_count": 99,
   "id": "def1fe20",
   "metadata": {},
   "outputs": [],
   "source": [
    "import matplotlib as plt"
   ]
  },
  {
   "cell_type": "markdown",
   "id": "24a069b8",
   "metadata": {},
   "source": [
    "\\[\n",
    "\\begin{aligned}\n",
    "\\mathrm{log} &= <built-in function log> \\; \n",
    "\\end{aligned}\n",
    "\\]\n"
   ]
  }
 ],
 "metadata": {
  "kernelspec": {
   "display_name": "Python 3 (ipykernel)",
   "language": "python",
   "name": "python3"
  },
  "language_info": {
   "codemirror_mode": {
    "name": "ipython",
    "version": 3
   },
   "file_extension": ".py",
   "mimetype": "text/x-python",
   "name": "python",
   "nbconvert_exporter": "python",
   "pygments_lexer": "ipython3",
   "version": "3.9.2"
  }
 },
 "nbformat": 4,
 "nbformat_minor": 5
}
