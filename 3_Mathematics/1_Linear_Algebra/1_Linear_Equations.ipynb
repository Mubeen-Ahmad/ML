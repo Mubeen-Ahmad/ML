{
 "cells": [
  {
   "cell_type": "markdown",
   "id": "6b4a683b",
   "metadata": {},
   "source": [
    "# Linear Equation\n",
    "## An equation that has the highest degree of 1 is known as a linear equation. This means that no variable in a linear equation has an exponent more than 1"
   ]
  },
  {
   "cell_type": "markdown",
   "id": "ee3e9b0f",
   "metadata": {},
   "source": [
    "##  It is also known as a one-degree equation. \n",
    "\n",
    "## The standard form of a linear equation in one variable is of the form \n",
    "# $$ Ax + B =  0 $$\n",
    "\n",
    "## Here, x is a variable, \n",
    "## A is a coefficient and B is constant. \n",
    "##  The standard form of a linear equation in two variables is of the form \n",
    "\n",
    "# $$ Ax + By = C $$\n",
    "\n",
    "## Here, x and y are variables, \n",
    "## A and B are coefficients and C is a constant."
   ]
  },
  {
   "cell_type": "markdown",
   "id": "8b9188d2",
   "metadata": {},
   "source": [
    "# Examples 1 one Variable\n",
    "\n",
    "# $$ 3x - 4 = 5 $$\n",
    " $$ 3x = 5 + 4 $$\n",
    "$$ 3x = 9 $$\n",
    "\n",
    "$$ x = \\frac{9}{3} $$\n"
   ]
  }
 ],
 "metadata": {
  "kernelspec": {
   "display_name": "Python 3 (ipykernel)",
   "language": "python",
   "name": "python3"
  },
  "language_info": {
   "codemirror_mode": {
    "name": "ipython",
    "version": 3
   },
   "file_extension": ".py",
   "mimetype": "text/x-python",
   "name": "python",
   "nbconvert_exporter": "python",
   "pygments_lexer": "ipython3",
   "version": "3.9.2"
  }
 },
 "nbformat": 4,
 "nbformat_minor": 5
}
