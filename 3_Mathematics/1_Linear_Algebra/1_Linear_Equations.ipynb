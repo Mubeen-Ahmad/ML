{
 "cells": [
  {
   "cell_type": "markdown",
   "id": "6b4a683b",
   "metadata": {},
   "source": [
    "# Linear Equation\n",
    "## An equation that has the highest degree of 1 is known as a linear equation. This means that no variable in a linear equation has an exponent more than 1"
   ]
  },
  {
   "cell_type": "markdown",
   "id": "ee3e9b0f",
   "metadata": {},
   "source": [
    "# Examples 1 one Variable\n",
    "<div style=\"font-size:30px; color:red;\">\n",
    "$$ 3x - 4 = 5 $$\n",
    "</div>\n",
    "<div style=\"font-size:25px; color:black;\">\n",
    "$$ 3x = 5 + 4 $$\n",
    "$$ 3x = 9 $$\n",
    "$$ x = \\frac{9}3 $$\n",
    "$$ x = 3 $$\n",
    "</div>"
   ]
  },
  {
   "cell_type": "markdown",
   "id": "940d2532",
   "metadata": {},
   "source": [
    "# Solve By Addition\n",
    "# $$ if\\;a = b,\\;then\\;a + c = b + c$$\n",
    "<div style=\"font-size:30px; color:red;\">\n",
    "$$ x - 5 = 2 $$\n",
    "<br>\n",
    "</div>\n",
    "<div style=\"font-size:25px;\">\n",
    "$$ Add \\;5\\;both\\;side $$\n",
    "$$ x - 5 + 5 = 2 + 5 $$\n",
    "$$ x = 7 $$\n",
    "</div>"
   ]
  },
  {
   "cell_type": "markdown",
   "id": "881323bf",
   "metadata": {},
   "source": [
    "# Solve By Subtraction\n",
    "# $$ if\\;a = b,\\;then\\;a - c = b - c $$\n",
    "<div style=\"font-size:30px; color:red;\">\n",
    "$$ y + 4 = -7 $$\n",
    "<br>\n",
    "</div>\n",
    "<div style=\"font-size:25px;\">\n",
    "$$ Subtract \\;4\\;both\\;side $$\n",
    "$$ y + 4 - 4 = -7 - 4 $$\n",
    "$$ y = - 11 $$\n",
    "</div>"
   ]
  },
  {
   "cell_type": "markdown",
   "id": "2a828ccf",
   "metadata": {},
   "source": [
    "# Solve by Multiplication\n",
    "# $$ if\\;a = b,\\;then\\;a(c) = b(c) $$\n",
    "<div style=\"font-size:30px; color:red;\">\n",
    "$$ \\frac{x}2 = 5 $$\n",
    "<br>\n",
    "</div>\n",
    "<div style=\"font-size:25px;\">\n",
    "$$ Multiply \\;2\\;both\\;side $$\n",
    "$$ 2 \\times \\frac{x}2 =  5 \\times 2 $$\n",
    "$$ x = 10 $$\n",
    "</div>"
   ]
  },
  {
   "cell_type": "markdown",
   "id": "edc72e83",
   "metadata": {},
   "source": [
    "# Solve By Division \n",
    "# $$ if\\;a = b,\\;then\\;\\frac{a}c = \\frac{b}c \\;where\\; c \\;is\\; not \\;equal \\;to \\;0$$\n",
    "<div style=\"font-size:30px; color:red;\">\n",
    "$$ 5x = 7 $$\n",
    "<br>\n",
    "</div>\n",
    "<div style=\"font-size:25px;\">\n",
    "$$ Divide\\;5\\;both\\;side $$\n",
    "$$ \\frac{5x}5 = \\frac{7}5 $$\n",
    "$$ x = \\frac{7}5 $$\n",
    "</div>"
   ]
  },
  {
   "cell_type": "markdown",
   "id": "643b4e92",
   "metadata": {},
   "source": [
    "# Example 2\n",
    "<div style=\"font-size:30px; color:red;\">\n",
    "$$ 2(x + 5) - 7 = 3(x - 2) $$\n",
    "<br>\n",
    "</div>\n",
    "<div style=\"font-size:25px;\">\n",
    "\n",
    "$$ 2x + 10 -7 = 3x - 6 $$ \n",
    "$$ 2x + 3 = 3x - 6 $$ \n",
    "$$ 2x + 3 + 6 = 3x $$ \n",
    "$$ 2x + 9 = 3x $$ \n",
    "$$ 2x - 3x = - 9 $$ \n",
    "$$ -x = - 9 $$ \n",
    "$$ Divide\\,by\\;-1 \\,on\\,both\\,Sides $$ \n",
    "$$ -\\frac{x}1 = - \\frac{9}1 $$ \n",
    "$$ x = 9 $$\n",
    "</div>"
   ]
  },
  {
   "cell_type": "markdown",
   "id": "9ebbd760",
   "metadata": {},
   "source": [
    "# Multiple Variables \n",
    "# Divide 24000 in four variables\n",
    "## 2 variable = 2x\n",
    "## and other 2 = x\n",
    "## e.g 2x , 2x, x, x = 24000\n",
    "\n",
    "<div style=\"font-size:30px; color:red;\">\n",
    "$$ 2x + 2x + x + x = 24000 $$\n",
    "<br>\n",
    "</div>\n",
    "<div style=\"font-size:25px;\">\n",
    "$$ 4x + 2x = 24000 $$ \n",
    "$$ 6x = 24000 $$ \n",
    "$$ x = \\frac{24000}6 $$ \n",
    "$$ x = 4000 $$ \n",
    "$$ so \\;2x + 2x + x + x $$ \n",
    "$$ put\\;value\\;of\\;x $$ \n",
    "$$ 2(4000) + 2(4000) + 4000 + 4000 $$ \n",
    "$$ 8000 + 8000 + 4000 + 4000 = 24000 $$ \n",
    "$$ The\\;values\\; are\\; proper\\; divide\\; According\\; to\\; condition $$\n",
    "</div>"
   ]
  },
  {
   "cell_type": "markdown",
   "id": "5e59d314",
   "metadata": {},
   "source": [
    "# Linear Equation Two Variables\n",
    "<div style=\"font-size:30px; color:red;\">\n",
    "$$ y - 2x -3 = 0 $$\n",
    "<br>\n",
    "</div>\n",
    "<div style=\"font-size:25px;\">\n",
    "\n",
    "$$ Soloution 1 $$\n",
    "$$ 2(3) + 3(2) = 12 $$ \n",
    "$$ 6 + 6 = 12 $$ \n",
    "$$ 12 = 12 $$ \n",
    "$$ (x,y) = (3,2) $$\n",
    "$$  Soloution 2 $$\n",
    "$$ 2(0) + 3(4) = 12 $$ \n",
    "$$ 12 = 12 $$ \n",
    "$$ (x,y) = (0,4) $$ \n",
    "$$ Soloution 3 $$ \n",
    "$$ 2(6) + 3(0) = 12 $$ \n",
    "$$ 12 = 12 $$ \n",
    "$$ (x,y) = (6,0) $$ \n",
    "</div>\n"
   ]
  },
  {
   "cell_type": "markdown",
   "id": "d7e006ee",
   "metadata": {},
   "source": [
    "<h4>Checking 3 </h4>\n",
    "<div style=\"font-size:30px; color:red;\">\n",
    "$$ 3x - 4 = 5 $$\n",
    "<br>\n",
    "</div>\n",
    "<div style=\"font-size:25px;\">\n",
    "$$ 3x - 4 = 5 $$\n",
    "$$ put \\: x = 3 $$\n",
    "$$ 3(3) - 4 = 5 $$\n",
    "$$ 9-4=5 $$\n",
    "$$ 5=5 $$\n",
    "</div>"
   ]
  },
  {
   "cell_type": "markdown",
   "id": "1fa721c5",
   "metadata": {},
   "source": [
    "# Standard of linear Equation\n",
    "<h3> Standard form is just another way to write a linear equation equation </h3>\n",
    "\n",
    "# $$ ax + by = c $$\n",
    "## a , b ,c are the constant\n",
    "## x, y are the variable\n",
    "# Example\n",
    "# $$ 2y+3x -12 = 10 $$\n",
    "\n",
    "# Convert into Standard form\n",
    "\n",
    "# $$ 3x + 2y = 10 + 12 $$\n",
    "# $$ 3x + 2y = 22 $$"
   ]
  },
  {
   "cell_type": "markdown",
   "id": "8de3c5ca",
   "metadata": {},
   "source": [
    "# slope-intercept form\n",
    "# $$ y = mx + c $$\n",
    "## y , x are the variables\n",
    "## m is the slop\n",
    "## c is the intercept of y\n",
    "# e.g\n",
    "# $$ 3x + 2y = 22 $$\n",
    "## Convert it into Slop-Intercept form\n",
    "# $$ 2y  + 3x = 22 $$\n",
    "# $$ y + 3x = \\frac{22}2 $$ \n",
    "## it is important to maximum value of y is 1 in Slop - intercept form\n",
    "# $$ y + 3x = 11 $$\n",
    "# $$ y = -3x + 11  $$"
   ]
  },
  {
   "cell_type": "markdown",
   "id": "f8fca7fb",
   "metadata": {},
   "source": [
    "# Example 2 Plot a graph\n",
    "\n",
    "\n",
    "# $$ 2x + y = 4 $$\n",
    "# In slop intercept form\n",
    "# $$ y = -2x + 4 $$\n",
    "\n",
    "## -2x = mx (slope)\n",
    "## 4 = c (intercept of y)\n",
    "\n",
    "## let x = 0\n",
    "# $$ 2x + y = 4$$\n",
    "## x = 2 , find y \n",
    "# $$ y = -2(0) + 4  $$\n",
    "# $$ y = 4  $$\n",
    "# First points x = 0 , y = 4\n",
    "# (0,4)\n",
    "\n",
    "# let x = 1\n",
    "# $$ y = -2x + 4 $$\n",
    "## x = 2 , find y \n",
    "# $$ y = -2(1) + 4 $$\n",
    "# $$ y = -2 + 4 $$\n",
    "# $$ y = 2 $$\n",
    "# Second Points x = 1 ,y =  2\n",
    "\n",
    "# (0,4)\n",
    "# (1,2)\n",
    "<img src=\"pix/g1.png\" style=\"display: block;margin-left: auto;margin-right: auto;\">"
   ]
  },
  {
   "cell_type": "markdown",
   "id": "5205ac4e",
   "metadata": {},
   "source": [
    "# Example 3\n",
    "\n",
    "# $$ y = 2x + 3 $$\n",
    "## let x = 0\n",
    "# $$ y = 2(0) + 3 $$\n",
    "# $$ y = 3 $$\n",
    "## (0,3)\n",
    "## let x = 1\n",
    "# $$ y = 2(1) + 3 $$\n",
    "# $$ y = 5 $$\n",
    "## (1,5)\n",
    "# so \n",
    "# p1 = (0,3)\n",
    "# p2 = (1,5)\n",
    "\n",
    "# Note that \n",
    "# y = mx + c\n",
    "# y = 2x + 3\n",
    "<br>\n",
    "\n",
    "# if x = 0, than y = 3\n",
    "# now 2x (slop) also given in equation\n",
    "# if x = 1 (+1) , than y = 5  (3 * 2)\n",
    "<br>\n",
    "\n",
    "# $$ slop = \\frac{\\Delta y}{\\Delta x} $$\n",
    "# e.g\n",
    "\n",
    "# $$ slop = \\frac{\\Delta y}{\\Delta x = 1} $$\n",
    "# x = 1 \n",
    "# $$ y = 2(1) => 2 $$\n",
    "\n",
    "# $$ slop = \\frac{\\Delta y => 2 }{\\Delta x = 1} $$\n"
   ]
  },
  {
   "cell_type": "markdown",
   "id": "ebab3fe4",
   "metadata": {},
   "source": [
    "# $$ y = 2x + 3 $$\n",
    "# $$ y = 2(0) + 3 =>  3 \\, (0,3) $$\n",
    "# $$ y = 2(1) + 3 =>  5 \\, (1,5) $$\n",
    "<img src=\"pix/g2.png\" style=\"display: block;margin-left: auto;margin-right: auto;\">\n"
   ]
  },
  {
   "cell_type": "markdown",
   "id": "6ed52dd3",
   "metadata": {},
   "source": [
    "# Example 4\n",
    "# $$ y = -x + 2 $$\n",
    "# x = 1 \n",
    "# $$ y = -1 + 2 => 1 $$\n",
    "# (1,1)\n",
    "<br>\n",
    "\n",
    "# x = 2\n",
    "# $$ y = -2 + 2 => 0 \\,(-1)$$\n",
    "# (2,0)\n",
    "# (1,1)"
   ]
  },
  {
   "cell_type": "markdown",
   "id": "f34670da",
   "metadata": {},
   "source": [
    "# What is Slop ?\n",
    "<h2>The slope of a line measures the steepness of the line. </h2>\n",
    "\n",
    "<p><h3> Rise means how many units you move up or down from point to point.  On the graph that would be a change in the y values.\n",
    "<br>\n",
    "<br>\n",
    "Run means how far left or right you move from point to point.  On the graph, that would mean a change of x values.</h3> </p>\n",
    "\n",
    "# $$ slop = \\frac{\\Delta y}{\\Delta x} $$\n",
    "# $$ slop = \\frac{\\Delta y \\,(y2 - y1) }{\\Delta x \\,(x2 - x1)} $$\n",
    "# So\n",
    "# $$ m = \\frac{y2 - y1}{x2 - x1} $$\n"
   ]
  },
  {
   "cell_type": "markdown",
   "id": "75f937dd",
   "metadata": {},
   "source": [
    "# Example 1: Find the slope of the straight line that passes through  (1, 1) and (5, 1)\n",
    "<br>\n",
    "<h2> \n",
    "y1 = 1\n",
    "    <br>\n",
    "y2 = 1\n",
    "    <br>\n",
    "x1 = 1\n",
    "    <br>\n",
    "x2 = 5\n",
    "</h2>\n",
    "\n",
    "# $$ m = \\frac{y2 - y1}{x2 - x1} $$\n",
    "# $$ m = \\frac{1 - 1}{5 - 1} $$\n",
    "# $$ m = \\frac{0}{4} $$\n",
    "# $$ m = 0 $$\n",
    "\n"
   ]
  }
 ],
 "metadata": {
  "kernelspec": {
   "display_name": "Python 3 (ipykernel)",
   "language": "python",
   "name": "python3"
  },
  "language_info": {
   "codemirror_mode": {
    "name": "ipython",
    "version": 3
   },
   "file_extension": ".py",
   "mimetype": "text/x-python",
   "name": "python",
   "nbconvert_exporter": "python",
   "pygments_lexer": "ipython3",
   "version": "3.9.2"
  }
 },
 "nbformat": 4,
 "nbformat_minor": 5
}
