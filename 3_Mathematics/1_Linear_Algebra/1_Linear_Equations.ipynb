{
 "cells": [
  {
   "cell_type": "markdown",
   "id": "6b4a683b",
   "metadata": {},
   "source": [
    "# Linear Equation\n",
    "## An equation that has the highest degree of 1 is known as a linear equation. This means that no variable in a linear equation has an exponent more than 1"
   ]
  },
  {
   "cell_type": "markdown",
   "id": "ee3e9b0f",
   "metadata": {},
   "source": [
    "# Examples 1 one Variable\n",
    "\n",
    "<div style=\"font-size:30px; color:red;\">\n",
    "$$ 3x - 4 = 5 $$\n",
    "</div>\n",
    "<br>\n",
    "\n",
    "<div style=\"font-size:25px; color:black;\">\n",
    "$$ \n",
    "3x = 5 + 4\\\\\n",
    "3x = 9\\\\\n",
    "x = \\frac{9}3\\\\\n",
    "x = 3\\\\\n",
    "$$\n",
    "\n",
    "<h4>Checking 3 </h4>\n",
    "<div style=\"font-size:30px; color:red;\">\n",
    "$$3x - 4 = 5 $$\n",
    "<br>\n",
    "</div>\n",
    "\n",
    "$$\n",
    "3x - 4 = 5\\\\\n",
    "put \\: x = 3\\\\\n",
    "3(3) - 4 = 5\\\\\n",
    "9-4=5\\\\\n",
    "5=5\\\\\n",
    "$$\n",
    "</div>"
   ]
  },
  {
   "cell_type": "markdown",
   "id": "66dafc62",
   "metadata": {},
   "source": [
    "# Solve By Addition \n",
    "# $$ if\\;a = b,\\;then\\;a + c = b + c $$\n",
    "<div style=\"font-size:30px; color:red;\">\n",
    "$$ x - 5 = 2 $$\n",
    "<br>\n",
    "</div>\n",
    "<div style=\"font-size:25px;\">\n",
    "$$\n",
    "Add\\;5\\;both\\;side\\\\\n",
    "x -5 + 5 = 2 + 5\\\\\n",
    "x = 7\n",
    "$$\n",
    "</div>"
   ]
  },
  {
   "cell_type": "markdown",
   "id": "1671f2c3",
   "metadata": {},
   "source": [
    "# Solve By Subtraction \n",
    "# $$ if\\;a = b,\\;then\\;a - c = b - c $$\n",
    "<div style=\"font-size:30px; color:red;\">\n",
    "$$ x + 4 = -7 $$\n",
    "<br>\n",
    "</div>\n",
    "<div style=\"font-size:25px;\">\n",
    "$$\n",
    "Subtract\\;4\\;both\\;side\\\\\n",
    "x + 4 - 4 = -7 - 4\\\\\n",
    "x = -11\n",
    "$$\n",
    "</div>"
   ]
  },
  {
   "cell_type": "markdown",
   "id": "d77cd8ae",
   "metadata": {},
   "source": [
    "# Solve By Multiplication \n",
    "# $$ if\\;a = b,\\;then\\;a \\times c = b \\times c $$\n",
    "<div style=\"font-size:30px; color:red;\">\n",
    "$$ \\frac{x}2 = 5 $$\n",
    "<br>\n",
    "</div>\n",
    "<div style=\"font-size:25px;\">\n",
    "$$\n",
    "Multiply\\;2\\;both\\;side\\\\\n",
    "(2)\\frac{x}2 = (2) 5\\\\\n",
    "x = 10\n",
    "$$\n",
    "</div>"
   ]
  },
  {
   "cell_type": "markdown",
   "id": "e5c40691",
   "metadata": {},
   "source": [
    "# Solve By Division \n",
    "# $$ if\\;a = b,\\;then\\;\\frac{a}c = \\frac{b}c \\;where\\; c \\;is\\; not \\;equal \\;to \\;0$$\n",
    "<div style=\"font-size:30px; color:red;\">\n",
    "$$ 5x = 7 $$\n",
    "<br>\n",
    "</div>\n",
    "<div style=\"font-size:25px;\">\n",
    "$$\n",
    "Divide\\;5\\;both\\;side\\\\\n",
    "\\frac{5x}5 = \\frac{7}5\\\\\n",
    "x = \\frac{7}5\n",
    "$$\n",
    "</div>\n",
    "#"
   ]
  }
 ],
 "metadata": {
  "kernelspec": {
   "display_name": "Python 3 (ipykernel)",
   "language": "python",
   "name": "python3"
  },
  "language_info": {
   "codemirror_mode": {
    "name": "ipython",
    "version": 3
   },
   "file_extension": ".py",
   "mimetype": "text/x-python",
   "name": "python",
   "nbconvert_exporter": "python",
   "pygments_lexer": "ipython3",
   "version": "3.9.2"
  }
 },
 "nbformat": 4,
 "nbformat_minor": 5
}
