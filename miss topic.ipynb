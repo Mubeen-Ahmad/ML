{
 "cells": [
  {
   "cell_type": "markdown",
   "id": "c6a3f2c4",
   "metadata": {},
   "source": [
    "# In OneHotEncoder\n",
    "* ## What is handle_unknown parameter ?\n",
    "* ## What is handle_unknown = \"ignore\""
   ]
  },
  {
   "cell_type": "markdown",
   "id": "11ced522",
   "metadata": {},
   "source": [
    "# In ColumnTransformer\n",
    "* ## slice(0,,8)"
   ]
  }
 ],
 "metadata": {
  "kernelspec": {
   "display_name": "Python 3 (ipykernel)",
   "language": "python",
   "name": "python3"
  },
  "language_info": {
   "codemirror_mode": {
    "name": "ipython",
    "version": 3
   },
   "file_extension": ".py",
   "mimetype": "text/x-python",
   "name": "python",
   "nbconvert_exporter": "python",
   "pygments_lexer": "ipython3",
   "version": "3.9.2"
  }
 },
 "nbformat": 4,
 "nbformat_minor": 5
}
