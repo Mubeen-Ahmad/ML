{
 "cells": [
  {
   "cell_type": "markdown",
   "id": "09528483",
   "metadata": {},
   "source": [
    "# Parameters and Hyperparameters in Machine Learning\n",
    "* # Confusion Matrix\n",
    "* # accuracy score\n",
    "* # cross validiation\n",
    "* # etc"
   ]
  },
  {
   "cell_type": "markdown",
   "id": "89f55a50",
   "metadata": {},
   "source": [
    "# Discretization\n",
    "\n",
    "## Difference between `Uniform / Quantile / K-means Binning`\n",
    "\n",
    "## Decision Tree Discretization"
   ]
  }
 ],
 "metadata": {
  "kernelspec": {
   "display_name": "Python 3 (ipykernel)",
   "language": "python",
   "name": "python3"
  },
  "language_info": {
   "codemirror_mode": {
    "name": "ipython",
    "version": 3
   },
   "file_extension": ".py",
   "mimetype": "text/x-python",
   "name": "python",
   "nbconvert_exporter": "python",
   "pygments_lexer": "ipython3",
   "version": "3.9.2"
  }
 },
 "nbformat": 4,
 "nbformat_minor": 5
}
